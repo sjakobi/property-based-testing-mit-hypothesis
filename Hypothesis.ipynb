{
 "cells": [
  {
   "cell_type": "markdown",
   "metadata": {},
   "source": [
    "# Property-based Testing mit Hypothesis"
   ]
  },
  {
   "cell_type": "markdown",
   "metadata": {},
   "source": [
    "Simon Jakobi (https://github.com/sjakobi)"
   ]
  },
  {
   "cell_type": "markdown",
   "metadata": {},
   "source": [
    "http://hypothesis.readthedocs.org"
   ]
  },
  {
   "cell_type": "markdown",
   "metadata": {},
   "source": [
    "## Properties"
   ]
  },
  {
   "cell_type": "markdown",
   "metadata": {},
   "source": [
    "* Hält meine Funktion für alle gültigen Inputs einen ordentlichen Output aus?\n",
    "* gilt `decode(encode(x)) == x`?"
   ]
  },
  {
   "cell_type": "code",
   "execution_count": 257,
   "metadata": {
    "collapsed": false
   },
   "outputs": [],
   "source": [
    "from hypothesis import given\n",
    "import hypothesis.strategies as st\n",
    "\n",
    "@given(st.integers())\n",
    "def test_int_str_conversion(n):\n",
    "    assert int(str(n)) == n\n",
    "    \n",
    "test_int_str_conversion()"
   ]
  },
  {
   "cell_type": "code",
   "execution_count": 258,
   "metadata": {
    "collapsed": true
   },
   "outputs": [
    {
     "name": "stdout",
     "output_type": "stream",
     "text": [
      "Trying example: test_float_str_conversion(n=nan)\n",
      "Trying example: test_float_str_conversion(n=3.6747825971579628e+264)\n",
      "Trying example: test_float_str_conversion(n=5.813125574739855e+144)\n",
      "Trying example: test_float_str_conversion(n=-2.2250738585072014e-308)\n",
      "Trying example: test_float_str_conversion(n=1360.0)\n",
      "Trying example: test_float_str_conversion(n=466.0)\n",
      "Trying example: test_float_str_conversion(n=542341094604065.9)\n",
      "Trying example: test_float_str_conversion(n=863.0)\n",
      "Trying example: test_float_str_conversion(n=2.072475237841613e-309)\n",
      "Trying example: test_float_str_conversion(n=706.0)\n",
      "Trying example: test_float_str_conversion(n=2786.0)\n",
      "Trying example: test_float_str_conversion(n=-470.0)\n",
      "Trying example: test_float_str_conversion(n=1.3936899804763441e+28)\n",
      "Trying example: test_float_str_conversion(n=290.0)\n",
      "Trying example: test_float_str_conversion(n=1.2160852373662958)\n",
      "Trying example: test_float_str_conversion(n=1.1190726712849837)\n",
      "Trying example: test_float_str_conversion(n=1.1329683756424338e+236)\n",
      "Trying example: test_float_str_conversion(n=1.7369196045853477e+297)\n",
      "Trying example: test_float_str_conversion(n=-5.0)\n",
      "Trying example: test_float_str_conversion(n=3.636315945082078e-50)\n",
      "Trying example: test_float_str_conversion(n=-691.3597058416287)\n",
      "Trying example: test_float_str_conversion(n=-1659.2738413244838)\n",
      "Trying example: test_float_str_conversion(n=-1138.9390310042136)\n",
      "Trying example: test_float_str_conversion(n=-764.5328940324401)\n",
      "Trying example: test_float_str_conversion(n=-876.5054060844977)\n",
      "Trying example: test_float_str_conversion(n=-426.4599396891823)\n",
      "Trying example: test_float_str_conversion(n=-1434.210595604757)\n",
      "Trying example: test_float_str_conversion(n=-1403.495618621067)\n",
      "Trying example: test_float_str_conversion(n=-339.09506672355565)\n",
      "Trying example: test_float_str_conversion(n=-1237.4960911032679)\n",
      "Trying example: test_float_str_conversion(n=-835.9688542126705)\n",
      "Trying example: test_float_str_conversion(n=4.4441991284612646e+257)\n",
      "Trying example: test_float_str_conversion(n=-0.31044922565779376)\n",
      "Trying example: test_float_str_conversion(n=5.315929481870294e+120)\n",
      "Trying example: test_float_str_conversion(n=-0.30130307451326804)\n",
      "Trying example: test_float_str_conversion(n=-0.2903652338490382)\n",
      "Trying example: test_float_str_conversion(n=-0.29163562786320574)\n",
      "Trying example: test_float_str_conversion(n=-0.29178730690826415)\n",
      "Trying example: test_float_str_conversion(n=-0.28976175991144043)\n",
      "Trying example: test_float_str_conversion(n=-0.28959422037687665)\n",
      "Trying example: test_float_str_conversion(n=2.01944099276628e-308)\n",
      "Trying example: test_float_str_conversion(n=-1.5183991089721216e-100)\n",
      "Trying example: test_float_str_conversion(n=-2.0107348328265014e-308)\n",
      "Trying example: test_float_str_conversion(n=-9.059350250338653e-309)\n",
      "Trying example: test_float_str_conversion(n=-1.7155535702344937e-308)\n",
      "Trying example: test_float_str_conversion(n=6.48378862068529e-309)\n",
      "Trying example: test_float_str_conversion(n=9.878394173141583e-309)\n",
      "Trying example: test_float_str_conversion(n=-2.1957896488377213e-308)\n",
      "Trying example: test_float_str_conversion(n=-2.7388707025317333e-214)\n",
      "Trying example: test_float_str_conversion(n=-1.77626080674916e-308)\n",
      "Trying example: test_float_str_conversion(n=-5.2154161183800525e+104)\n",
      "Trying example: test_float_str_conversion(n=7.218122990443245e-309)\n",
      "Trying example: test_float_str_conversion(n=-3.752446740487393e-73)\n",
      "Trying example: test_float_str_conversion(n=-0.0)\n",
      "Trying example: test_float_str_conversion(n=1.7976931348623157e+308)\n",
      "Trying example: test_float_str_conversion(n=4.0)\n",
      "Trying example: test_float_str_conversion(n=-9.56625260736346e+307)\n",
      "Trying example: test_float_str_conversion(n=-2.223610652743044e-308)\n",
      "Trying example: test_float_str_conversion(n=-1.3841251520256365e-308)\n",
      "Trying example: test_float_str_conversion(n=-6.69600541830943e-310)\n",
      "Trying example: test_float_str_conversion(n=-5.206415271967812e+186)\n",
      "Trying example: test_float_str_conversion(n=-4.3793940473958e-310)\n",
      "Trying example: test_float_str_conversion(n=-1.4675015453144e-309)\n",
      "Trying example: test_float_str_conversion(n=-8.231179547967458e-175)\n",
      "Trying example: test_float_str_conversion(n=-7.500744056842585e+270)\n",
      "Trying example: test_float_str_conversion(n=-7.87759387068958e+208)\n",
      "Trying example: test_float_str_conversion(n=-4.11751749051337e-310)\n",
      "Trying example: test_float_str_conversion(n=1.6301666359484827e-308)\n",
      "Trying example: test_float_str_conversion(n=2.0329332227892924e-308)\n",
      "Trying example: test_float_str_conversion(n=-3.866634226467657e-92)\n",
      "Trying example: test_float_str_conversion(n=0.04840593500659412)\n",
      "Trying example: test_float_str_conversion(n=2.3052252321572634e+114)\n",
      "Trying example: test_float_str_conversion(n=-2.941403733995216e-309)\n",
      "Trying example: test_float_str_conversion(n=-1.8864080476747294e-80)\n",
      "Trying example: test_float_str_conversion(n=3.605728663003191e+223)\n",
      "Trying example: test_float_str_conversion(n=6369431511.807525)\n",
      "Trying example: test_float_str_conversion(n=5.410239716370778e+175)\n",
      "Trying example: test_float_str_conversion(n=2.927156242029e-309)\n",
      "Trying example: test_float_str_conversion(n=-1.2426671141486316)\n",
      "Trying example: test_float_str_conversion(n=-1.240270930670055)\n",
      "Trying example: test_float_str_conversion(n=-1.2446795893930485)\n",
      "Trying example: test_float_str_conversion(n=-487.9777057439608)\n",
      "Trying example: test_float_str_conversion(n=638.048719312439)\n",
      "Trying example: test_float_str_conversion(n=-1.2441412860105776)\n",
      "Trying example: test_float_str_conversion(n=-1.243730821729347)\n",
      "Trying example: test_float_str_conversion(n=-1.2446669362618519)\n",
      "Trying example: test_float_str_conversion(n=-1.2448033763220692)\n",
      "Trying example: test_float_str_conversion(n=-1.2417141683830053)\n",
      "Trying example: test_float_str_conversion(n=-1.232513647247423)\n",
      "Trying example: test_float_str_conversion(n=-533.462197881435)\n",
      "Trying example: test_float_str_conversion(n=-15514.0)\n",
      "Trying example: test_float_str_conversion(n=0.0)\n",
      "Trying example: test_float_str_conversion(n=-2.748766351261672e+152)\n",
      "Trying example: test_float_str_conversion(n=-5.849731343708507e+190)\n",
      "Trying example: test_float_str_conversion(n=-5.96489807014833e-309)\n",
      "Trying example: test_float_str_conversion(n=-1.5706737263788777e-308)\n",
      "Trying example: test_float_str_conversion(n=1.7686294844305734e-308)\n",
      "Trying example: test_float_str_conversion(n=-1.927118462168173e-308)\n",
      "Trying example: test_float_str_conversion(n=-6.761995108740955e+27)\n",
      "Trying example: test_float_str_conversion(n=-1.02185374908593e-308)\n",
      "Trying example: test_float_str_conversion(n=-1.3104171408320718e+165)\n",
      "Trying example: test_float_str_conversion(n=-1.265667560241984e-308)\n",
      "Trying example: test_float_str_conversion(n=-6.149083451533848e-208)\n",
      "Trying example: test_float_str_conversion(n=3.2389688276533136e-201)\n",
      "Trying example: test_float_str_conversion(n=6.678447713609305e+105)\n",
      "Trying example: test_float_str_conversion(n=1.967530604335954e-46)\n",
      "Trying example: test_float_str_conversion(n=5.643071459382605e+280)\n",
      "Trying example: test_float_str_conversion(n=1.047504133426371e-200)\n",
      "Trying example: test_float_str_conversion(n=-7.46546432190895e+87)\n",
      "Trying example: test_float_str_conversion(n=6.323859672445565e+205)\n",
      "Trying example: test_float_str_conversion(n=-4.4222260236278625e-76)\n",
      "Trying example: test_float_str_conversion(n=1.198615288801548e-185)\n",
      "Trying example: test_float_str_conversion(n=6.95975334732713e-309)\n",
      "Trying example: test_float_str_conversion(n=8.695384920951702e-127)\n",
      "Trying example: test_float_str_conversion(n=1.0801683598058326e+68)\n",
      "Trying example: test_float_str_conversion(n=1.3582983117456638e+181)\n",
      "Trying example: test_float_str_conversion(n=6.871078082983022e+23)\n",
      "Trying example: test_float_str_conversion(n=3.528185212736217e-55)\n",
      "Trying example: test_float_str_conversion(n=-854943211737.4768)\n",
      "Trying example: test_float_str_conversion(n=1.8919931280213606e-308)\n",
      "Trying example: test_float_str_conversion(n=-1.3272452725369535e-123)\n",
      "Trying example: test_float_str_conversion(n=-3.618691032270849e-124)\n",
      "Trying example: test_float_str_conversion(n=-6.858256880287236e+46)\n",
      "Trying example: test_float_str_conversion(n=-4.81811402831953e-309)\n",
      "Trying example: test_float_str_conversion(n=7.874513489337481e+265)\n",
      "Trying example: test_float_str_conversion(n=-2.503258303669468e+137)\n",
      "Trying example: test_float_str_conversion(n=1.1253958572512368e-296)\n",
      "Trying example: test_float_str_conversion(n=7.722821425195179e-166)\n",
      "Trying example: test_float_str_conversion(n=2.0212284762669733e-308)\n",
      "Trying example: test_float_str_conversion(n=1.2562354859372176e-121)\n",
      "Trying example: test_float_str_conversion(n=-4.197724598327151e-177)\n",
      "Trying example: test_float_str_conversion(n=1.0216076664827615e+136)\n",
      "Trying example: test_float_str_conversion(n=-9.204876743527814e-63)\n",
      "Trying example: test_float_str_conversion(n=1.4580138331135045e+51)\n",
      "Trying example: test_float_str_conversion(n=-1.741266511122668e-72)\n",
      "Trying example: test_float_str_conversion(n=2.091271967954647e-308)\n",
      "Trying example: test_float_str_conversion(n=-6.0)\n",
      "Trying example: test_float_str_conversion(n=-251.0)\n",
      "Trying example: test_float_str_conversion(n=-222.0)\n",
      "Trying example: test_float_str_conversion(n=-119.0)\n",
      "Trying example: test_float_str_conversion(n=-232.0)\n",
      "Trying example: test_float_str_conversion(n=-155.0)\n",
      "Trying example: test_float_str_conversion(n=-354.0)\n",
      "Trying example: test_float_str_conversion(n=-465.0)\n",
      "Trying example: test_float_str_conversion(n=-49.0)\n",
      "Trying example: test_float_str_conversion(n=-16.0)\n",
      "Trying example: test_float_str_conversion(n=-99.0)\n",
      "Trying example: test_float_str_conversion(n=1.878433799207268e-180)\n",
      "Trying example: test_float_str_conversion(n=-7.819626912693522e-183)\n",
      "Trying example: test_float_str_conversion(n=-0.9269844712222787)\n",
      "Trying example: test_float_str_conversion(n=-3.7138383514287373e+102)\n",
      "Trying example: test_float_str_conversion(n=1.2423024283039086e-308)\n",
      "Trying example: test_float_str_conversion(n=-0.958930964387786)\n",
      "Trying example: test_float_str_conversion(n=-1.986609719790134e-308)\n",
      "Trying example: test_float_str_conversion(n=-0.9563188960233104)\n",
      "Trying example: test_float_str_conversion(n=-0.9147513231698494)\n",
      "Trying example: test_float_str_conversion(n=-0.9523907345035375)\n",
      "Trying example: test_float_str_conversion(n=-9.84276776640273e-309)\n",
      "Trying example: test_float_str_conversion(n=1.3774013854359221e+115)\n",
      "Trying example: test_float_str_conversion(n=4.0044130049882447e+114)\n",
      "Trying example: test_float_str_conversion(n=6.267567754540393e+104)\n",
      "Trying example: test_float_str_conversion(n=3.640924082894379e-97)\n",
      "Trying example: test_float_str_conversion(n=-5.33876793975241e-309)\n",
      "Trying example: test_float_str_conversion(n=2.483981423973235e-50)\n",
      "Trying example: test_float_str_conversion(n=1.1318543147544877e-308)\n",
      "Trying example: test_float_str_conversion(n=6.045179605376295e-285)\n",
      "Trying example: test_float_str_conversion(n=3.0092589963132453e-115)\n",
      "Trying example: test_float_str_conversion(n=1.600967044909779e-308)\n",
      "Trying example: test_float_str_conversion(n=4.05673810442206e-309)\n",
      "Trying example: test_float_str_conversion(n=-4.4364360138159865e+190)\n",
      "Trying example: test_float_str_conversion(n=-9.920778256810573e+35)\n",
      "Trying example: test_float_str_conversion(n=1.8487098624622866e-308)\n",
      "Trying example: test_float_str_conversion(n=7.058636196638884e-309)\n",
      "Trying example: test_float_str_conversion(n=1.3335876036094053e-308)\n",
      "Trying example: test_float_str_conversion(n=-1.3295426457726135e+292)\n",
      "Trying example: test_float_str_conversion(n=-9.556802028459046e+45)\n",
      "Trying example: test_float_str_conversion(n=1.5026927464158236e-308)\n",
      "Trying example: test_float_str_conversion(n=6.1102072607822e-309)\n",
      "Trying example: test_float_str_conversion(n=-2.3804945183869752e-96)\n",
      "Trying example: test_float_str_conversion(n=2.7945526649909532e-204)\n",
      "Trying example: test_float_str_conversion(n=-4.0)\n",
      "Trying example: test_float_str_conversion(n=inf)\n",
      "Trying example: test_float_str_conversion(n=-3.535466434653111e-157)\n",
      "Trying example: test_float_str_conversion(n=-54556959.12802271)\n",
      "Trying example: test_float_str_conversion(n=-9.230435669206018e-82)\n",
      "Trying example: test_float_str_conversion(n=-3.92270185729337e-309)\n",
      "Trying example: test_float_str_conversion(n=-9.30399184889775e-84)\n",
      "Trying example: test_float_str_conversion(n=-1.1915501376440335e+298)\n",
      "Trying example: test_float_str_conversion(n=-1.7183842569853956e+98)\n",
      "Trying example: test_float_str_conversion(n=-2.3430177117081562e-256)\n",
      "Trying example: test_float_str_conversion(n=-1.4767748913137164e-91)\n",
      "Trying example: test_float_str_conversion(n=-2.9521721308150555e-282)\n",
      "Trying example: test_float_str_conversion(n=-6.443609283078057e-309)\n",
      "Trying example: test_float_str_conversion(n=-1.273483825509197e-81)\n",
      "Trying example: test_float_str_conversion(n=-1.1107671553639558e-166)\n",
      "Trying example: test_float_str_conversion(n=-1.9581947790052635e-270)\n",
      "Trying example: test_float_str_conversion(n=2.1127728422937475e+206)\n",
      "Trying example: test_float_str_conversion(n=-6.59698104292108e-309)\n",
      "Trying example: test_float_str_conversion(n=-7.28113481873332e-309)\n",
      "Trying example: test_float_str_conversion(n=8.388234370604008e+16)\n",
      "Trying example: test_float_str_conversion(n=-2.557299911050545e-108)\n"
     ]
    }
   ],
   "source": [
    "from hypothesis import Settings, assume, Verbosity, example\n",
    "from math import isnan\n",
    "\n",
    "@example(-0.0)\n",
    "@given(st.floats(), settings=Settings(verbosity=Verbosity.verbose))\n",
    "def test_float_str_conversion(n):\n",
    "    assume(not isnan(n))\n",
    "    assert float(str(n)) == n\n",
    "    \n",
    "test_float_str_conversion()"
   ]
  },
  {
   "cell_type": "code",
   "execution_count": 153,
   "metadata": {
    "collapsed": false
   },
   "outputs": [],
   "source": [
    "def quicksort(lst):\n",
    "    if not lst:\n",
    "        return []\n",
    "    lst_ = lst[:]\n",
    "    x = lst_.pop()\n",
    "    return (quicksort([y for y in lst_ if y <= x]) +\n",
    "            [x] +\n",
    "            quicksort([y for y in lst_ if y >= x]))"
   ]
  },
  {
   "cell_type": "markdown",
   "metadata": {
    "collapsed": true
   },
   "source": [
    "Idempotenz: `sorted(sorted(xs)) == sorted(xs)`"
   ]
  },
  {
   "cell_type": "code",
   "execution_count": 259,
   "metadata": {
    "collapsed": true
   },
   "outputs": [
    {
     "name": "stdout",
     "output_type": "stream",
     "text": [
      "Falsifying example: test_quicksort_is_idempotent(lst=[0, 0])\n"
     ]
    },
    {
     "ename": "AssertionError",
     "evalue": "",
     "output_type": "error",
     "traceback": [
      "\u001b[1;31m---------------------------------------------------------------------------\u001b[0m",
      "\u001b[1;31mAssertionError\u001b[0m                            Traceback (most recent call last)",
      "\u001b[1;32m<ipython-input-259-6e9aff806eb5>\u001b[0m in \u001b[0;36m<module>\u001b[1;34m()\u001b[0m\n\u001b[0;32m      4\u001b[0m     \u001b[1;32massert\u001b[0m \u001b[0mquicksort\u001b[0m\u001b[1;33m(\u001b[0m\u001b[0msorted_\u001b[0m\u001b[1;33m)\u001b[0m \u001b[1;33m==\u001b[0m \u001b[0msorted_\u001b[0m\u001b[1;33m\u001b[0m\u001b[0m\n\u001b[0;32m      5\u001b[0m \u001b[1;33m\u001b[0m\u001b[0m\n\u001b[1;32m----> 6\u001b[1;33m \u001b[0mtest_quicksort_is_idempotent\u001b[0m\u001b[1;33m(\u001b[0m\u001b[1;33m)\u001b[0m\u001b[1;33m\u001b[0m\u001b[0m\n\u001b[0m",
      "\u001b[1;32m/home/simon/Dropbox/prog/python/lpug/hypothesis-talk/.hypothesis/eval_source/hypothesis_temporary_module_4f7a5124f03629c9071b282352b53ca66efccd58.py\u001b[0m in \u001b[0;36mtest_quicksort_is_idempotent\u001b[1;34m(lst)\u001b[0m\n\u001b[0;32m      3\u001b[0m \u001b[1;32mdef\u001b[0m \u001b[0maccept\u001b[0m\u001b[1;33m(\u001b[0m\u001b[0mf\u001b[0m\u001b[1;33m)\u001b[0m\u001b[1;33m:\u001b[0m\u001b[1;33m\u001b[0m\u001b[0m\n\u001b[0;32m      4\u001b[0m     \u001b[1;32mdef\u001b[0m \u001b[0mtest_quicksort_is_idempotent\u001b[0m\u001b[1;33m(\u001b[0m\u001b[0mlst\u001b[0m\u001b[1;33m=\u001b[0m\u001b[0mnot_set\u001b[0m\u001b[1;33m)\u001b[0m\u001b[1;33m:\u001b[0m\u001b[1;33m\u001b[0m\u001b[0m\n\u001b[1;32m----> 5\u001b[1;33m         \u001b[1;32mreturn\u001b[0m \u001b[0mf\u001b[0m\u001b[1;33m(\u001b[0m\u001b[0mlst\u001b[0m\u001b[1;33m)\u001b[0m\u001b[1;33m\u001b[0m\u001b[0m\n\u001b[0m\u001b[0;32m      6\u001b[0m     \u001b[1;32mreturn\u001b[0m \u001b[0mtest_quicksort_is_idempotent\u001b[0m\u001b[1;33m\u001b[0m\u001b[0m\n",
      "\u001b[1;32m/home/simon/.venvs/hypothesis34/lib/python3.4/site-packages/hypothesis/core.py\u001b[0m in \u001b[0;36mwrapped_test\u001b[1;34m(*arguments, **kwargs)\u001b[0m\n\u001b[0;32m    575\u001b[0m                 test_runner(reify_and_execute(\n\u001b[0;32m    576\u001b[0m                     \u001b[0msearch_strategy\u001b[0m\u001b[1;33m,\u001b[0m \u001b[0mfalsifying_template\u001b[0m\u001b[1;33m,\u001b[0m \u001b[0mtest\u001b[0m\u001b[1;33m,\u001b[0m\u001b[1;33m\u001b[0m\u001b[0m\n\u001b[1;32m--> 577\u001b[1;33m                     \u001b[0mprint_example\u001b[0m\u001b[1;33m=\u001b[0m\u001b[1;32mTrue\u001b[0m\u001b[1;33m\u001b[0m\u001b[0m\n\u001b[0m\u001b[0;32m    578\u001b[0m                 ))\n\u001b[0;32m    579\u001b[0m \u001b[1;33m\u001b[0m\u001b[0m\n",
      "\u001b[1;32m/home/simon/.venvs/hypothesis34/lib/python3.4/site-packages/hypothesis/executors/executors.py\u001b[0m in \u001b[0;36mdefault_executor\u001b[1;34m(function)\u001b[0m\n\u001b[0;32m     23\u001b[0m \u001b[1;33m\u001b[0m\u001b[0m\n\u001b[0;32m     24\u001b[0m \u001b[1;32mdef\u001b[0m \u001b[0mdefault_executor\u001b[0m\u001b[1;33m(\u001b[0m\u001b[0mfunction\u001b[0m\u001b[1;33m)\u001b[0m\u001b[1;33m:\u001b[0m\u001b[1;33m\u001b[0m\u001b[0m\n\u001b[1;32m---> 25\u001b[1;33m     \u001b[1;32mreturn\u001b[0m \u001b[0mfunction\u001b[0m\u001b[1;33m(\u001b[0m\u001b[1;33m)\u001b[0m\u001b[1;33m\u001b[0m\u001b[0m\n\u001b[0m\u001b[0;32m     26\u001b[0m \u001b[1;33m\u001b[0m\u001b[0m\n\u001b[0;32m     27\u001b[0m \u001b[1;33m\u001b[0m\u001b[0m\n",
      "\u001b[1;32m/home/simon/.venvs/hypothesis34/lib/python3.4/site-packages/hypothesis/core.py\u001b[0m in \u001b[0;36mrun\u001b[1;34m()\u001b[0m\n\u001b[0;32m    367\u001b[0m             \u001b[1;32mif\u001b[0m \u001b[0mrecord_repr\u001b[0m \u001b[1;32mis\u001b[0m \u001b[1;32mnot\u001b[0m \u001b[1;32mNone\u001b[0m\u001b[1;33m:\u001b[0m\u001b[1;33m\u001b[0m\u001b[0m\n\u001b[0;32m    368\u001b[0m                 \u001b[0mrecord_repr\u001b[0m\u001b[1;33m[\u001b[0m\u001b[1;36m0\u001b[0m\u001b[1;33m]\u001b[0m \u001b[1;33m=\u001b[0m \u001b[0mtext_version\u001b[0m\u001b[1;33m\u001b[0m\u001b[0m\n\u001b[1;32m--> 369\u001b[1;33m             \u001b[1;32mreturn\u001b[0m \u001b[0mtest\u001b[0m\u001b[1;33m(\u001b[0m\u001b[1;33m*\u001b[0m\u001b[0margs\u001b[0m\u001b[1;33m,\u001b[0m \u001b[1;33m**\u001b[0m\u001b[0mkwargs\u001b[0m\u001b[1;33m)\u001b[0m\u001b[1;33m\u001b[0m\u001b[0m\n\u001b[0m\u001b[0;32m    370\u001b[0m     \u001b[1;32mreturn\u001b[0m \u001b[0mrun\u001b[0m\u001b[1;33m\u001b[0m\u001b[0m\n\u001b[0;32m    371\u001b[0m \u001b[1;33m\u001b[0m\u001b[0m\n",
      "\u001b[1;32m<ipython-input-259-6e9aff806eb5>\u001b[0m in \u001b[0;36mtest_quicksort_is_idempotent\u001b[1;34m(lst)\u001b[0m\n\u001b[0;32m      2\u001b[0m \u001b[1;32mdef\u001b[0m \u001b[0mtest_quicksort_is_idempotent\u001b[0m\u001b[1;33m(\u001b[0m\u001b[0mlst\u001b[0m\u001b[1;33m)\u001b[0m\u001b[1;33m:\u001b[0m\u001b[1;33m\u001b[0m\u001b[0m\n\u001b[0;32m      3\u001b[0m     \u001b[0msorted_\u001b[0m \u001b[1;33m=\u001b[0m \u001b[0mquicksort\u001b[0m\u001b[1;33m(\u001b[0m\u001b[0mlst\u001b[0m\u001b[1;33m)\u001b[0m\u001b[1;33m\u001b[0m\u001b[0m\n\u001b[1;32m----> 4\u001b[1;33m     \u001b[1;32massert\u001b[0m \u001b[0mquicksort\u001b[0m\u001b[1;33m(\u001b[0m\u001b[0msorted_\u001b[0m\u001b[1;33m)\u001b[0m \u001b[1;33m==\u001b[0m \u001b[0msorted_\u001b[0m\u001b[1;33m\u001b[0m\u001b[0m\n\u001b[0m\u001b[0;32m      5\u001b[0m \u001b[1;33m\u001b[0m\u001b[0m\n\u001b[0;32m      6\u001b[0m \u001b[0mtest_quicksort_is_idempotent\u001b[0m\u001b[1;33m(\u001b[0m\u001b[1;33m)\u001b[0m\u001b[1;33m\u001b[0m\u001b[0m\n",
      "\u001b[1;31mAssertionError\u001b[0m: "
     ]
    }
   ],
   "source": [
    "@given(st.lists(st.integers(), max_size=3)) # settings=Settings(verbosity=Verbosity.verbose))\n",
    "def test_quicksort_is_idempotent(lst):\n",
    "    sorted_ = quicksort(lst)\n",
    "    assert quicksort(sorted_) == sorted_\n",
    "    \n",
    "test_quicksort_is_idempotent()"
   ]
  },
  {
   "cell_type": "markdown",
   "metadata": {},
   "source": [
    "### Ist der Output von quicksort wirklich sortiert?"
   ]
  },
  {
   "cell_type": "code",
   "execution_count": 260,
   "metadata": {
    "collapsed": false
   },
   "outputs": [],
   "source": [
    "# Erster Versuch (geschönt)\n",
    "\n",
    "MAX_SIZE = 10\n",
    "lists = st.lists(st.integers(), max_size=MAX_SIZE)\n",
    "indices = st.integers(min_value=0, max_value=MAX_SIZE)\n",
    "index_pairs = st.tuples(indices, indices)\n",
    "\n",
    "@given(lists, index_pairs)\n",
    "def test_quicksort_result_is_sorted(lst, index_pair):\n",
    "    assume(index_pair[0] < len(lst))\n",
    "    assume(index_pair[1] < len(lst))\n",
    "    idx1, idx2 = sorted(index_pair)\n",
    "    sorted_lst = quicksort(lst)\n",
    "    assert sorted_lst[idx1] <= sorted_lst[idx2]\n",
    "    \n",
    "test_quicksort_result_is_sorted()"
   ]
  },
  {
   "cell_type": "markdown",
   "metadata": {},
   "source": [
    "Addendum:\n",
    "    \n",
    "Im Nachhinein erscheint es ein wenig overkill, die Indizes mit Hypothesis zu generieren.\n",
    "Einfacher geht es so:"
   ]
  },
  {
   "cell_type": "code",
   "execution_count": 262,
   "metadata": {
    "collapsed": false
   },
   "outputs": [],
   "source": [
    "@given(lists)\n",
    "def test_quicksort_result_is_sorted2(lst):\n",
    "    sorted_lst = quicksort(lst)\n",
    "    for (x, y) in zip(sorted_lst, sorted_lst[1:]):\n",
    "        assert x <= y\n",
    "\n",
    "test_quicksort_result_is_sorted2()"
   ]
  },
  {
   "cell_type": "markdown",
   "metadata": {},
   "source": [
    "Am einfachsten: Vergleich mit einer Referenzimplementierung"
   ]
  },
  {
   "cell_type": "code",
   "execution_count": 162,
   "metadata": {
    "collapsed": true
   },
   "outputs": [
    {
     "name": "stdout",
     "output_type": "stream",
     "text": [
      "Falsifying example: test_compare_to_sorted(lst=[0, 0])\n"
     ]
    },
    {
     "ename": "AssertionError",
     "evalue": "",
     "output_type": "error",
     "traceback": [
      "\u001b[1;31m---------------------------------------------------------------------------\u001b[0m",
      "\u001b[1;31mAssertionError\u001b[0m                            Traceback (most recent call last)",
      "\u001b[1;32m<ipython-input-162-27823379da15>\u001b[0m in \u001b[0;36m<module>\u001b[1;34m()\u001b[0m\n\u001b[0;32m      3\u001b[0m     \u001b[1;32massert\u001b[0m \u001b[0mquicksort\u001b[0m\u001b[1;33m(\u001b[0m\u001b[0mlst\u001b[0m\u001b[1;33m)\u001b[0m \u001b[1;33m==\u001b[0m \u001b[0msorted\u001b[0m\u001b[1;33m(\u001b[0m\u001b[0mlst\u001b[0m\u001b[1;33m)\u001b[0m\u001b[1;33m\u001b[0m\u001b[0m\n\u001b[0;32m      4\u001b[0m \u001b[1;33m\u001b[0m\u001b[0m\n\u001b[1;32m----> 5\u001b[1;33m \u001b[0mtest_compare_to_sorted\u001b[0m\u001b[1;33m(\u001b[0m\u001b[1;33m)\u001b[0m\u001b[1;33m\u001b[0m\u001b[0m\n\u001b[0m",
      "\u001b[1;32m/home/simon/Dropbox/prog/python/lpug/hypothesis-talk/.hypothesis/eval_source/hypothesis_temporary_module_ba2e243fd938007ca787abec42a4dc70ca50db82.py\u001b[0m in \u001b[0;36mtest_compare_to_sorted\u001b[1;34m(lst)\u001b[0m\n\u001b[0;32m      3\u001b[0m \u001b[1;32mdef\u001b[0m \u001b[0maccept\u001b[0m\u001b[1;33m(\u001b[0m\u001b[0mf\u001b[0m\u001b[1;33m)\u001b[0m\u001b[1;33m:\u001b[0m\u001b[1;33m\u001b[0m\u001b[0m\n\u001b[0;32m      4\u001b[0m     \u001b[1;32mdef\u001b[0m \u001b[0mtest_compare_to_sorted\u001b[0m\u001b[1;33m(\u001b[0m\u001b[0mlst\u001b[0m\u001b[1;33m=\u001b[0m\u001b[0mnot_set\u001b[0m\u001b[1;33m)\u001b[0m\u001b[1;33m:\u001b[0m\u001b[1;33m\u001b[0m\u001b[0m\n\u001b[1;32m----> 5\u001b[1;33m         \u001b[1;32mreturn\u001b[0m \u001b[0mf\u001b[0m\u001b[1;33m(\u001b[0m\u001b[0mlst\u001b[0m\u001b[1;33m)\u001b[0m\u001b[1;33m\u001b[0m\u001b[0m\n\u001b[0m\u001b[0;32m      6\u001b[0m     \u001b[1;32mreturn\u001b[0m \u001b[0mtest_compare_to_sorted\u001b[0m\u001b[1;33m\u001b[0m\u001b[0m\n",
      "\u001b[1;32m/home/simon/.venvs/hypothesis34/lib/python3.4/site-packages/hypothesis/core.py\u001b[0m in \u001b[0;36mwrapped_test\u001b[1;34m(*arguments, **kwargs)\u001b[0m\n\u001b[0;32m    575\u001b[0m                 test_runner(reify_and_execute(\n\u001b[0;32m    576\u001b[0m                     \u001b[0msearch_strategy\u001b[0m\u001b[1;33m,\u001b[0m \u001b[0mfalsifying_template\u001b[0m\u001b[1;33m,\u001b[0m \u001b[0mtest\u001b[0m\u001b[1;33m,\u001b[0m\u001b[1;33m\u001b[0m\u001b[0m\n\u001b[1;32m--> 577\u001b[1;33m                     \u001b[0mprint_example\u001b[0m\u001b[1;33m=\u001b[0m\u001b[1;32mTrue\u001b[0m\u001b[1;33m\u001b[0m\u001b[0m\n\u001b[0m\u001b[0;32m    578\u001b[0m                 ))\n\u001b[0;32m    579\u001b[0m \u001b[1;33m\u001b[0m\u001b[0m\n",
      "\u001b[1;32m/home/simon/.venvs/hypothesis34/lib/python3.4/site-packages/hypothesis/executors/executors.py\u001b[0m in \u001b[0;36mdefault_executor\u001b[1;34m(function)\u001b[0m\n\u001b[0;32m     23\u001b[0m \u001b[1;33m\u001b[0m\u001b[0m\n\u001b[0;32m     24\u001b[0m \u001b[1;32mdef\u001b[0m \u001b[0mdefault_executor\u001b[0m\u001b[1;33m(\u001b[0m\u001b[0mfunction\u001b[0m\u001b[1;33m)\u001b[0m\u001b[1;33m:\u001b[0m\u001b[1;33m\u001b[0m\u001b[0m\n\u001b[1;32m---> 25\u001b[1;33m     \u001b[1;32mreturn\u001b[0m \u001b[0mfunction\u001b[0m\u001b[1;33m(\u001b[0m\u001b[1;33m)\u001b[0m\u001b[1;33m\u001b[0m\u001b[0m\n\u001b[0m\u001b[0;32m     26\u001b[0m \u001b[1;33m\u001b[0m\u001b[0m\n\u001b[0;32m     27\u001b[0m \u001b[1;33m\u001b[0m\u001b[0m\n",
      "\u001b[1;32m/home/simon/.venvs/hypothesis34/lib/python3.4/site-packages/hypothesis/core.py\u001b[0m in \u001b[0;36mrun\u001b[1;34m()\u001b[0m\n\u001b[0;32m    367\u001b[0m             \u001b[1;32mif\u001b[0m \u001b[0mrecord_repr\u001b[0m \u001b[1;32mis\u001b[0m \u001b[1;32mnot\u001b[0m \u001b[1;32mNone\u001b[0m\u001b[1;33m:\u001b[0m\u001b[1;33m\u001b[0m\u001b[0m\n\u001b[0;32m    368\u001b[0m                 \u001b[0mrecord_repr\u001b[0m\u001b[1;33m[\u001b[0m\u001b[1;36m0\u001b[0m\u001b[1;33m]\u001b[0m \u001b[1;33m=\u001b[0m \u001b[0mtext_version\u001b[0m\u001b[1;33m\u001b[0m\u001b[0m\n\u001b[1;32m--> 369\u001b[1;33m             \u001b[1;32mreturn\u001b[0m \u001b[0mtest\u001b[0m\u001b[1;33m(\u001b[0m\u001b[1;33m*\u001b[0m\u001b[0margs\u001b[0m\u001b[1;33m,\u001b[0m \u001b[1;33m**\u001b[0m\u001b[0mkwargs\u001b[0m\u001b[1;33m)\u001b[0m\u001b[1;33m\u001b[0m\u001b[0m\n\u001b[0m\u001b[0;32m    370\u001b[0m     \u001b[1;32mreturn\u001b[0m \u001b[0mrun\u001b[0m\u001b[1;33m\u001b[0m\u001b[0m\n\u001b[0;32m    371\u001b[0m \u001b[1;33m\u001b[0m\u001b[0m\n",
      "\u001b[1;32m<ipython-input-162-27823379da15>\u001b[0m in \u001b[0;36mtest_compare_to_sorted\u001b[1;34m(lst)\u001b[0m\n\u001b[0;32m      1\u001b[0m \u001b[1;33m@\u001b[0m\u001b[0mgiven\u001b[0m\u001b[1;33m(\u001b[0m\u001b[0mst\u001b[0m\u001b[1;33m.\u001b[0m\u001b[0mlists\u001b[0m\u001b[1;33m(\u001b[0m\u001b[0mst\u001b[0m\u001b[1;33m.\u001b[0m\u001b[0mintegers\u001b[0m\u001b[1;33m(\u001b[0m\u001b[1;33m)\u001b[0m\u001b[1;33m)\u001b[0m\u001b[1;33m)\u001b[0m\u001b[1;33m\u001b[0m\u001b[0m\n\u001b[0;32m      2\u001b[0m \u001b[1;32mdef\u001b[0m \u001b[0mtest_compare_to_sorted\u001b[0m\u001b[1;33m(\u001b[0m\u001b[0mlst\u001b[0m\u001b[1;33m)\u001b[0m\u001b[1;33m:\u001b[0m\u001b[1;33m\u001b[0m\u001b[0m\n\u001b[1;32m----> 3\u001b[1;33m     \u001b[1;32massert\u001b[0m \u001b[0mquicksort\u001b[0m\u001b[1;33m(\u001b[0m\u001b[0mlst\u001b[0m\u001b[1;33m)\u001b[0m \u001b[1;33m==\u001b[0m \u001b[0msorted\u001b[0m\u001b[1;33m(\u001b[0m\u001b[0mlst\u001b[0m\u001b[1;33m)\u001b[0m\u001b[1;33m\u001b[0m\u001b[0m\n\u001b[0m\u001b[0;32m      4\u001b[0m \u001b[1;33m\u001b[0m\u001b[0m\n\u001b[0;32m      5\u001b[0m \u001b[0mtest_compare_to_sorted\u001b[0m\u001b[1;33m(\u001b[0m\u001b[1;33m)\u001b[0m\u001b[1;33m\u001b[0m\u001b[0m\n",
      "\u001b[1;31mAssertionError\u001b[0m: "
     ]
    }
   ],
   "source": [
    "@given(st.lists(st.integers()))\n",
    "def test_compare_to_sorted(lst):\n",
    "    assert quicksort(lst) == sorted(lst)\n",
    "    \n",
    "test_compare_to_sorted()"
   ]
  },
  {
   "cell_type": "markdown",
   "metadata": {},
   "source": [
    "## Strategies"
   ]
  },
  {
   "cell_type": "code",
   "execution_count": 8,
   "metadata": {
    "collapsed": false
   },
   "outputs": [
    {
     "name": "stdout",
     "output_type": "stream",
     "text": [
      "Help on function integers in module hypothesis.strategies:\n",
      "\n",
      "integers(min_value=None, max_value=None)\n",
      "    Returns a strategy which generates integers (in Python 2 these may be\n",
      "    ints or longs).\n",
      "    \n",
      "    If min_value is not None then all values will be >=\n",
      "    min_value. If max_value is not None then all values will be <= max_value\n",
      "\n"
     ]
    }
   ],
   "source": [
    "help(st.integers)"
   ]
  },
  {
   "cell_type": "markdown",
   "metadata": {},
   "source": [
    "### Strategien transformieren"
   ]
  },
  {
   "cell_type": "code",
   "execution_count": 33,
   "metadata": {
    "collapsed": false
   },
   "outputs": [
    {
     "data": {
      "text/plain": [
       "-16"
      ]
     },
     "execution_count": 33,
     "metadata": {},
     "output_type": "execute_result"
    }
   ],
   "source": [
    "st.integers().map(lambda n: 2 * n).example()"
   ]
  },
  {
   "cell_type": "markdown",
   "metadata": {},
   "source": [
    "### Strategien kombinieren"
   ]
  },
  {
   "cell_type": "code",
   "execution_count": 264,
   "metadata": {
    "collapsed": false
   },
   "outputs": [
    {
     "data": {
      "text/plain": [
       "[-3,\n",
       " -7.026538184441703e-309,\n",
       " 1.0674221941712151e-69,\n",
       " -87.0,\n",
       " -4,\n",
       " 835276951908890046543449252112211892375994387932703844421397285087355441913]"
      ]
     },
     "execution_count": 264,
     "metadata": {},
     "output_type": "execute_result"
    }
   ],
   "source": [
    "strat = st.one_of(st.integers(), st.floats())\n",
    "\n",
    "[strat.example() for _ in range(6)]"
   ]
  },
  {
   "cell_type": "code",
   "execution_count": 132,
   "metadata": {
    "collapsed": false
   },
   "outputs": [
    {
     "name": "stdout",
     "output_type": "stream",
     "text": [
      "Help on function lists in module hypothesis.strategies:\n",
      "\n",
      "lists(elements=None, min_size=None, average_size=None, max_size=None, unique_by=None)\n",
      "    Returns a list containining values drawn from elements length in the\n",
      "    interval [min_size, max_size] (no bounds in that direction if these are\n",
      "    None). If max_size is 0 then elements may be None and only the empty list\n",
      "    will be drawn.\n",
      "    \n",
      "    average_size may be used as a size hint to roughly control the size\n",
      "    of list but it may not be the actual average of sizes you get, due\n",
      "    to a variety of factors.\n",
      "    \n",
      "    if unique_by is not None it must be a function returning a hashable type\n",
      "    when given a value drawn from elements. The resulting list will satisfy the\n",
      "    condition that for i != j, unique_by(result[i]) != unique_by(result[j]).\n",
      "\n"
     ]
    }
   ],
   "source": [
    "help(st.lists)"
   ]
  },
  {
   "cell_type": "code",
   "execution_count": 133,
   "metadata": {
    "collapsed": false
   },
   "outputs": [
    {
     "name": "stdout",
     "output_type": "stream",
     "text": [
      "Help on function recursive in module hypothesis.strategies:\n",
      "\n",
      "recursive(base, extend, max_leaves=100)\n",
      "    base: A strategy to start from\n",
      "    extend: A function which takes a strategy and returns a new strategy\n",
      "    max_leaves: The maximum number of elements to be drawn from base on a given\n",
      "    run.\n",
      "    \n",
      "    This returns a strategy S such that S = extend(base | S). That is, values\n",
      "    maybe drawn from base, or from any strategy reachable by mixing\n",
      "    applications of | and extend.\n",
      "    \n",
      "    An example may clarify: recursive(booleans(), lists) would return a\n",
      "    strategy that may return arbitrarily nested and mixed lists of booleans.\n",
      "    So e.g. False, [True], [False, []], [[[[True]]]], are all valid values to\n",
      "    be drawn from that strategy.\n",
      "\n"
     ]
    }
   ],
   "source": [
    "help(st.recursive)"
   ]
  },
  {
   "cell_type": "markdown",
   "metadata": {},
   "source": [
    "## Eigene Datenstrukturen"
   ]
  },
  {
   "cell_type": "code",
   "execution_count": 267,
   "metadata": {
    "collapsed": false
   },
   "outputs": [],
   "source": [
    "from collections import namedtuple\n",
    "from math import sqrt\n",
    "\n",
    "from hypothesis import Settings, Verbosity\n",
    "\n",
    "Point = namedtuple(\"Point\", \"x, y\")\n",
    "\n",
    "def distance(p1, p2):\n",
    "    dx = (p1.x - p2.x) ** 2\n",
    "    dy = (p1.y - p2.y) ** 2\n",
    "    return sqrt(dx + dy)"
   ]
  },
  {
   "cell_type": "code",
   "execution_count": 171,
   "metadata": {
    "collapsed": true
   },
   "outputs": [],
   "source": [
    "# Ein konventioneller Test für die Plausibilität\n",
    "def test_distance_from_0_0_to_0_1_is_1():\n",
    "    assert distance(Point(0,0), Point(0,1)) == 1\n",
    "\n",
    "test_distance_from_0_0_to_0_1_is_1()"
   ]
  },
  {
   "cell_type": "markdown",
   "metadata": {},
   "source": [
    "### Mit Integer-Koordinaten"
   ]
  },
  {
   "cell_type": "code",
   "execution_count": 277,
   "metadata": {
    "collapsed": true
   },
   "outputs": [],
   "source": [
    "points = st.builds(Point, x=st.integers(), y=st.integers())"
   ]
  },
  {
   "cell_type": "code",
   "execution_count": 270,
   "metadata": {
    "collapsed": false
   },
   "outputs": [],
   "source": [
    "@given(points)\n",
    "def test_distance_for_same_point_is_zero(point):\n",
    "    assert distance(point, point) == 0\n",
    "    \n",
    "test_distance_for_same_point_is_zero()"
   ]
  },
  {
   "cell_type": "code",
   "execution_count": 271,
   "metadata": {
    "collapsed": true
   },
   "outputs": [],
   "source": [
    "@given(points, points)\n",
    "def test_distance_is_always_non_negative(p1, p2):\n",
    "    assert distance(p1, p2) >= 0\n",
    "    \n",
    "test_distance_is_always_non_negative()"
   ]
  },
  {
   "cell_type": "code",
   "execution_count": 278,
   "metadata": {
    "collapsed": true
   },
   "outputs": [],
   "source": [
    "@given(points, points)\n",
    "def test_distance_is_commutative(p1, p2):\n",
    "    assert distance(p1, p2) == distance(p2, p1)\n",
    "    \n",
    "test_distance_is_commutative()"
   ]
  },
  {
   "cell_type": "markdown",
   "metadata": {},
   "source": [
    "### Mit Float-Koordinaten"
   ]
  },
  {
   "cell_type": "code",
   "execution_count": 282,
   "metadata": {
    "collapsed": true
   },
   "outputs": [],
   "source": [
    "points = st.builds(Point, x=st.floats(), y=st.floats())"
   ]
  },
  {
   "cell_type": "code",
   "execution_count": 276,
   "metadata": {
    "collapsed": false
   },
   "outputs": [
    {
     "name": "stdout",
     "output_type": "stream",
     "text": [
      "Falsifying example: test_distance_for_same_point_is_zero(point=Point(x=0.0, y=inf))\n"
     ]
    },
    {
     "ename": "AssertionError",
     "evalue": "",
     "output_type": "error",
     "traceback": [
      "\u001b[1;31m---------------------------------------------------------------------------\u001b[0m",
      "\u001b[1;31mAssertionError\u001b[0m                            Traceback (most recent call last)",
      "\u001b[1;32m<ipython-input-276-d6f08bcd74d8>\u001b[0m in \u001b[0;36m<module>\u001b[1;34m()\u001b[0m\n\u001b[0;32m      3\u001b[0m     \u001b[1;32massert\u001b[0m \u001b[0mdistance\u001b[0m\u001b[1;33m(\u001b[0m\u001b[0mpoint\u001b[0m\u001b[1;33m,\u001b[0m \u001b[0mpoint\u001b[0m\u001b[1;33m)\u001b[0m \u001b[1;33m==\u001b[0m \u001b[1;36m0\u001b[0m\u001b[1;33m\u001b[0m\u001b[0m\n\u001b[0;32m      4\u001b[0m \u001b[1;33m\u001b[0m\u001b[0m\n\u001b[1;32m----> 5\u001b[1;33m \u001b[0mtest_distance_for_same_point_is_zero\u001b[0m\u001b[1;33m(\u001b[0m\u001b[1;33m)\u001b[0m\u001b[1;33m\u001b[0m\u001b[0m\n\u001b[0m",
      "\u001b[1;32m/home/simon/Dropbox/prog/python/lpug/hypothesis-talk/.hypothesis/eval_source/hypothesis_temporary_module_d4dcd43315605f8f3922cd96a30dbcc413b3c2cb.py\u001b[0m in \u001b[0;36mtest_distance_for_same_point_is_zero\u001b[1;34m(point)\u001b[0m\n\u001b[0;32m      3\u001b[0m \u001b[1;32mdef\u001b[0m \u001b[0maccept\u001b[0m\u001b[1;33m(\u001b[0m\u001b[0mf\u001b[0m\u001b[1;33m)\u001b[0m\u001b[1;33m:\u001b[0m\u001b[1;33m\u001b[0m\u001b[0m\n\u001b[0;32m      4\u001b[0m     \u001b[1;32mdef\u001b[0m \u001b[0mtest_distance_for_same_point_is_zero\u001b[0m\u001b[1;33m(\u001b[0m\u001b[0mpoint\u001b[0m\u001b[1;33m=\u001b[0m\u001b[0mnot_set\u001b[0m\u001b[1;33m)\u001b[0m\u001b[1;33m:\u001b[0m\u001b[1;33m\u001b[0m\u001b[0m\n\u001b[1;32m----> 5\u001b[1;33m         \u001b[1;32mreturn\u001b[0m \u001b[0mf\u001b[0m\u001b[1;33m(\u001b[0m\u001b[0mpoint\u001b[0m\u001b[1;33m)\u001b[0m\u001b[1;33m\u001b[0m\u001b[0m\n\u001b[0m\u001b[0;32m      6\u001b[0m     \u001b[1;32mreturn\u001b[0m \u001b[0mtest_distance_for_same_point_is_zero\u001b[0m\u001b[1;33m\u001b[0m\u001b[0m\n",
      "\u001b[1;32m/home/simon/.venvs/hypothesis34/lib/python3.4/site-packages/hypothesis/core.py\u001b[0m in \u001b[0;36mwrapped_test\u001b[1;34m(*arguments, **kwargs)\u001b[0m\n\u001b[0;32m    575\u001b[0m                 test_runner(reify_and_execute(\n\u001b[0;32m    576\u001b[0m                     \u001b[0msearch_strategy\u001b[0m\u001b[1;33m,\u001b[0m \u001b[0mfalsifying_template\u001b[0m\u001b[1;33m,\u001b[0m \u001b[0mtest\u001b[0m\u001b[1;33m,\u001b[0m\u001b[1;33m\u001b[0m\u001b[0m\n\u001b[1;32m--> 577\u001b[1;33m                     \u001b[0mprint_example\u001b[0m\u001b[1;33m=\u001b[0m\u001b[1;32mTrue\u001b[0m\u001b[1;33m\u001b[0m\u001b[0m\n\u001b[0m\u001b[0;32m    578\u001b[0m                 ))\n\u001b[0;32m    579\u001b[0m \u001b[1;33m\u001b[0m\u001b[0m\n",
      "\u001b[1;32m/home/simon/.venvs/hypothesis34/lib/python3.4/site-packages/hypothesis/executors/executors.py\u001b[0m in \u001b[0;36mdefault_executor\u001b[1;34m(function)\u001b[0m\n\u001b[0;32m     23\u001b[0m \u001b[1;33m\u001b[0m\u001b[0m\n\u001b[0;32m     24\u001b[0m \u001b[1;32mdef\u001b[0m \u001b[0mdefault_executor\u001b[0m\u001b[1;33m(\u001b[0m\u001b[0mfunction\u001b[0m\u001b[1;33m)\u001b[0m\u001b[1;33m:\u001b[0m\u001b[1;33m\u001b[0m\u001b[0m\n\u001b[1;32m---> 25\u001b[1;33m     \u001b[1;32mreturn\u001b[0m \u001b[0mfunction\u001b[0m\u001b[1;33m(\u001b[0m\u001b[1;33m)\u001b[0m\u001b[1;33m\u001b[0m\u001b[0m\n\u001b[0m\u001b[0;32m     26\u001b[0m \u001b[1;33m\u001b[0m\u001b[0m\n\u001b[0;32m     27\u001b[0m \u001b[1;33m\u001b[0m\u001b[0m\n",
      "\u001b[1;32m/home/simon/.venvs/hypothesis34/lib/python3.4/site-packages/hypothesis/core.py\u001b[0m in \u001b[0;36mrun\u001b[1;34m()\u001b[0m\n\u001b[0;32m    367\u001b[0m             \u001b[1;32mif\u001b[0m \u001b[0mrecord_repr\u001b[0m \u001b[1;32mis\u001b[0m \u001b[1;32mnot\u001b[0m \u001b[1;32mNone\u001b[0m\u001b[1;33m:\u001b[0m\u001b[1;33m\u001b[0m\u001b[0m\n\u001b[0;32m    368\u001b[0m                 \u001b[0mrecord_repr\u001b[0m\u001b[1;33m[\u001b[0m\u001b[1;36m0\u001b[0m\u001b[1;33m]\u001b[0m \u001b[1;33m=\u001b[0m \u001b[0mtext_version\u001b[0m\u001b[1;33m\u001b[0m\u001b[0m\n\u001b[1;32m--> 369\u001b[1;33m             \u001b[1;32mreturn\u001b[0m \u001b[0mtest\u001b[0m\u001b[1;33m(\u001b[0m\u001b[1;33m*\u001b[0m\u001b[0margs\u001b[0m\u001b[1;33m,\u001b[0m \u001b[1;33m**\u001b[0m\u001b[0mkwargs\u001b[0m\u001b[1;33m)\u001b[0m\u001b[1;33m\u001b[0m\u001b[0m\n\u001b[0m\u001b[0;32m    370\u001b[0m     \u001b[1;32mreturn\u001b[0m \u001b[0mrun\u001b[0m\u001b[1;33m\u001b[0m\u001b[0m\n\u001b[0;32m    371\u001b[0m \u001b[1;33m\u001b[0m\u001b[0m\n",
      "\u001b[1;32m<ipython-input-276-d6f08bcd74d8>\u001b[0m in \u001b[0;36mtest_distance_for_same_point_is_zero\u001b[1;34m(point)\u001b[0m\n\u001b[0;32m      1\u001b[0m \u001b[1;33m@\u001b[0m\u001b[0mgiven\u001b[0m\u001b[1;33m(\u001b[0m\u001b[0mpoints\u001b[0m\u001b[1;33m)\u001b[0m\u001b[1;33m\u001b[0m\u001b[0m\n\u001b[0;32m      2\u001b[0m \u001b[1;32mdef\u001b[0m \u001b[0mtest_distance_for_same_point_is_zero\u001b[0m\u001b[1;33m(\u001b[0m\u001b[0mpoint\u001b[0m\u001b[1;33m)\u001b[0m\u001b[1;33m:\u001b[0m\u001b[1;33m\u001b[0m\u001b[0m\n\u001b[1;32m----> 3\u001b[1;33m     \u001b[1;32massert\u001b[0m \u001b[0mdistance\u001b[0m\u001b[1;33m(\u001b[0m\u001b[0mpoint\u001b[0m\u001b[1;33m,\u001b[0m \u001b[0mpoint\u001b[0m\u001b[1;33m)\u001b[0m \u001b[1;33m==\u001b[0m \u001b[1;36m0\u001b[0m\u001b[1;33m\u001b[0m\u001b[0m\n\u001b[0m\u001b[0;32m      4\u001b[0m \u001b[1;33m\u001b[0m\u001b[0m\n\u001b[0;32m      5\u001b[0m \u001b[0mtest_distance_for_same_point_is_zero\u001b[0m\u001b[1;33m(\u001b[0m\u001b[1;33m)\u001b[0m\u001b[1;33m\u001b[0m\u001b[0m\n",
      "\u001b[1;31mAssertionError\u001b[0m: "
     ]
    }
   ],
   "source": [
    "@given(points)\n",
    "def test_distance_for_same_point_is_zero(point):\n",
    "    assert distance(point, point) == 0\n",
    "    \n",
    "test_distance_for_same_point_is_zero()"
   ]
  },
  {
   "cell_type": "markdown",
   "metadata": {},
   "source": [
    "### Ohne Inf, -Inf, NaN"
   ]
  },
  {
   "cell_type": "code",
   "execution_count": 285,
   "metadata": {
    "collapsed": false
   },
   "outputs": [
    {
     "data": {
      "text/plain": [
       "[-9.80239181252283e-113,\n",
       " 32.87147634543405,\n",
       " 8.261931442927766e-309,\n",
       " 0.0,\n",
       " 2.601102708210644e-270]"
      ]
     },
     "execution_count": 285,
     "metadata": {},
     "output_type": "execute_result"
    }
   ],
   "source": [
    "from math import isfinite\n",
    "\n",
    "finite_floats = st.floats().filter(isfinite)\n",
    "\n",
    "[finite_floats.example() for _ in range(5)]"
   ]
  },
  {
   "cell_type": "code",
   "execution_count": 286,
   "metadata": {
    "collapsed": false
   },
   "outputs": [],
   "source": [
    "points = st.builds(Point, finite_floats, finite_floats)"
   ]
  },
  {
   "cell_type": "code",
   "execution_count": 287,
   "metadata": {
    "collapsed": false
   },
   "outputs": [],
   "source": [
    "@given(points)\n",
    "def test_distance_for_same_point_is_zero(point):\n",
    "    assert distance(point, point) == 0\n",
    "    \n",
    "test_distance_for_same_point_is_zero()"
   ]
  },
  {
   "cell_type": "markdown",
   "metadata": {},
   "source": [
    "### Können die eingebauten Strategien alle Problemstellen finden?"
   ]
  },
  {
   "cell_type": "code",
   "execution_count": 292,
   "metadata": {
    "collapsed": false
   },
   "outputs": [],
   "source": [
    "def hyperbel_mit_unstetigkeit(x):\n",
    "    def hyperbel(n):\n",
    "        return 1 / (n - x)\n",
    "    return hyperbel"
   ]
  },
  {
   "cell_type": "code",
   "execution_count": 301,
   "metadata": {
    "collapsed": true
   },
   "outputs": [
    {
     "name": "stdout",
     "output_type": "stream",
     "text": [
      "Falsifying example: test_hyperbel(n=5.0)\n"
     ]
    },
    {
     "ename": "ZeroDivisionError",
     "evalue": "float division by zero",
     "output_type": "error",
     "traceback": [
      "\u001b[1;31m---------------------------------------------------------------------------\u001b[0m",
      "\u001b[1;31mZeroDivisionError\u001b[0m                         Traceback (most recent call last)",
      "\u001b[1;32m<ipython-input-301-dcb620b4e604>\u001b[0m in \u001b[0;36m<module>\u001b[1;34m()\u001b[0m\n\u001b[0;32m      4\u001b[0m     \u001b[1;32massert\u001b[0m \u001b[0misinstance\u001b[0m\u001b[1;33m(\u001b[0m\u001b[0mhyperbel\u001b[0m\u001b[1;33m(\u001b[0m\u001b[0mn\u001b[0m\u001b[1;33m)\u001b[0m\u001b[1;33m,\u001b[0m \u001b[0mobject\u001b[0m\u001b[1;33m)\u001b[0m\u001b[1;33m\u001b[0m\u001b[0m\n\u001b[0;32m      5\u001b[0m \u001b[1;33m\u001b[0m\u001b[0m\n\u001b[1;32m----> 6\u001b[1;33m \u001b[0mtest_hyperbel\u001b[0m\u001b[1;33m(\u001b[0m\u001b[1;33m)\u001b[0m\u001b[1;33m\u001b[0m\u001b[0m\n\u001b[0m",
      "\u001b[1;32m/home/simon/Dropbox/prog/python/lpug/hypothesis-talk/.hypothesis/eval_source/hypothesis_temporary_module_17d8b7aea370d89e23e2c597716ac6fb6ebb352a.py\u001b[0m in \u001b[0;36mtest_hyperbel\u001b[1;34m(n)\u001b[0m\n\u001b[0;32m      3\u001b[0m \u001b[1;32mdef\u001b[0m \u001b[0maccept\u001b[0m\u001b[1;33m(\u001b[0m\u001b[0mf\u001b[0m\u001b[1;33m)\u001b[0m\u001b[1;33m:\u001b[0m\u001b[1;33m\u001b[0m\u001b[0m\n\u001b[0;32m      4\u001b[0m     \u001b[1;32mdef\u001b[0m \u001b[0mtest_hyperbel\u001b[0m\u001b[1;33m(\u001b[0m\u001b[0mn\u001b[0m\u001b[1;33m=\u001b[0m\u001b[0mnot_set\u001b[0m\u001b[1;33m)\u001b[0m\u001b[1;33m:\u001b[0m\u001b[1;33m\u001b[0m\u001b[0m\n\u001b[1;32m----> 5\u001b[1;33m         \u001b[1;32mreturn\u001b[0m \u001b[0mf\u001b[0m\u001b[1;33m(\u001b[0m\u001b[0mn\u001b[0m\u001b[1;33m)\u001b[0m\u001b[1;33m\u001b[0m\u001b[0m\n\u001b[0m\u001b[0;32m      6\u001b[0m     \u001b[1;32mreturn\u001b[0m \u001b[0mtest_hyperbel\u001b[0m\u001b[1;33m\u001b[0m\u001b[0m\n",
      "\u001b[1;32m/home/simon/.venvs/hypothesis34/lib/python3.4/site-packages/hypothesis/core.py\u001b[0m in \u001b[0;36mwrapped_test\u001b[1;34m(*arguments, **kwargs)\u001b[0m\n\u001b[0;32m    575\u001b[0m                 test_runner(reify_and_execute(\n\u001b[0;32m    576\u001b[0m                     \u001b[0msearch_strategy\u001b[0m\u001b[1;33m,\u001b[0m \u001b[0mfalsifying_template\u001b[0m\u001b[1;33m,\u001b[0m \u001b[0mtest\u001b[0m\u001b[1;33m,\u001b[0m\u001b[1;33m\u001b[0m\u001b[0m\n\u001b[1;32m--> 577\u001b[1;33m                     \u001b[0mprint_example\u001b[0m\u001b[1;33m=\u001b[0m\u001b[1;32mTrue\u001b[0m\u001b[1;33m\u001b[0m\u001b[0m\n\u001b[0m\u001b[0;32m    578\u001b[0m                 ))\n\u001b[0;32m    579\u001b[0m \u001b[1;33m\u001b[0m\u001b[0m\n",
      "\u001b[1;32m/home/simon/.venvs/hypothesis34/lib/python3.4/site-packages/hypothesis/executors/executors.py\u001b[0m in \u001b[0;36mdefault_executor\u001b[1;34m(function)\u001b[0m\n\u001b[0;32m     23\u001b[0m \u001b[1;33m\u001b[0m\u001b[0m\n\u001b[0;32m     24\u001b[0m \u001b[1;32mdef\u001b[0m \u001b[0mdefault_executor\u001b[0m\u001b[1;33m(\u001b[0m\u001b[0mfunction\u001b[0m\u001b[1;33m)\u001b[0m\u001b[1;33m:\u001b[0m\u001b[1;33m\u001b[0m\u001b[0m\n\u001b[1;32m---> 25\u001b[1;33m     \u001b[1;32mreturn\u001b[0m \u001b[0mfunction\u001b[0m\u001b[1;33m(\u001b[0m\u001b[1;33m)\u001b[0m\u001b[1;33m\u001b[0m\u001b[0m\n\u001b[0m\u001b[0;32m     26\u001b[0m \u001b[1;33m\u001b[0m\u001b[0m\n\u001b[0;32m     27\u001b[0m \u001b[1;33m\u001b[0m\u001b[0m\n",
      "\u001b[1;32m/home/simon/.venvs/hypothesis34/lib/python3.4/site-packages/hypothesis/core.py\u001b[0m in \u001b[0;36mrun\u001b[1;34m()\u001b[0m\n\u001b[0;32m    367\u001b[0m             \u001b[1;32mif\u001b[0m \u001b[0mrecord_repr\u001b[0m \u001b[1;32mis\u001b[0m \u001b[1;32mnot\u001b[0m \u001b[1;32mNone\u001b[0m\u001b[1;33m:\u001b[0m\u001b[1;33m\u001b[0m\u001b[0m\n\u001b[0;32m    368\u001b[0m                 \u001b[0mrecord_repr\u001b[0m\u001b[1;33m[\u001b[0m\u001b[1;36m0\u001b[0m\u001b[1;33m]\u001b[0m \u001b[1;33m=\u001b[0m \u001b[0mtext_version\u001b[0m\u001b[1;33m\u001b[0m\u001b[0m\n\u001b[1;32m--> 369\u001b[1;33m             \u001b[1;32mreturn\u001b[0m \u001b[0mtest\u001b[0m\u001b[1;33m(\u001b[0m\u001b[1;33m*\u001b[0m\u001b[0margs\u001b[0m\u001b[1;33m,\u001b[0m \u001b[1;33m**\u001b[0m\u001b[0mkwargs\u001b[0m\u001b[1;33m)\u001b[0m\u001b[1;33m\u001b[0m\u001b[0m\n\u001b[0m\u001b[0;32m    370\u001b[0m     \u001b[1;32mreturn\u001b[0m \u001b[0mrun\u001b[0m\u001b[1;33m\u001b[0m\u001b[0m\n\u001b[0;32m    371\u001b[0m \u001b[1;33m\u001b[0m\u001b[0m\n",
      "\u001b[1;32m<ipython-input-301-dcb620b4e604>\u001b[0m in \u001b[0;36mtest_hyperbel\u001b[1;34m(n)\u001b[0m\n\u001b[0;32m      2\u001b[0m \u001b[1;32mdef\u001b[0m \u001b[0mtest_hyperbel\u001b[0m\u001b[1;33m(\u001b[0m\u001b[0mn\u001b[0m\u001b[1;33m)\u001b[0m\u001b[1;33m:\u001b[0m\u001b[1;33m\u001b[0m\u001b[0m\n\u001b[0;32m      3\u001b[0m     \u001b[0mhyperbel\u001b[0m \u001b[1;33m=\u001b[0m \u001b[0mhyperbel_mit_unstetigkeit\u001b[0m\u001b[1;33m(\u001b[0m\u001b[1;36m5.0\u001b[0m\u001b[1;33m)\u001b[0m\u001b[1;33m\u001b[0m\u001b[0m\n\u001b[1;32m----> 4\u001b[1;33m     \u001b[1;32massert\u001b[0m \u001b[0misinstance\u001b[0m\u001b[1;33m(\u001b[0m\u001b[0mhyperbel\u001b[0m\u001b[1;33m(\u001b[0m\u001b[0mn\u001b[0m\u001b[1;33m)\u001b[0m\u001b[1;33m,\u001b[0m \u001b[0mobject\u001b[0m\u001b[1;33m)\u001b[0m\u001b[1;33m\u001b[0m\u001b[0m\n\u001b[0m\u001b[0;32m      5\u001b[0m \u001b[1;33m\u001b[0m\u001b[0m\n\u001b[0;32m      6\u001b[0m \u001b[0mtest_hyperbel\u001b[0m\u001b[1;33m(\u001b[0m\u001b[1;33m)\u001b[0m\u001b[1;33m\u001b[0m\u001b[0m\n",
      "\u001b[1;32m<ipython-input-292-c1ea838859bb>\u001b[0m in \u001b[0;36mhyperbel\u001b[1;34m(n)\u001b[0m\n\u001b[0;32m      3\u001b[0m \u001b[1;32mdef\u001b[0m \u001b[0mhyperbel_mit_unstetigkeit\u001b[0m\u001b[1;33m(\u001b[0m\u001b[0mx\u001b[0m\u001b[1;33m)\u001b[0m\u001b[1;33m:\u001b[0m\u001b[1;33m\u001b[0m\u001b[0m\n\u001b[0;32m      4\u001b[0m     \u001b[1;32mdef\u001b[0m \u001b[0mhyperbel\u001b[0m\u001b[1;33m(\u001b[0m\u001b[0mn\u001b[0m\u001b[1;33m)\u001b[0m\u001b[1;33m:\u001b[0m\u001b[1;33m\u001b[0m\u001b[0m\n\u001b[1;32m----> 5\u001b[1;33m         \u001b[1;32mreturn\u001b[0m \u001b[1;36m1\u001b[0m \u001b[1;33m/\u001b[0m \u001b[1;33m(\u001b[0m\u001b[0mn\u001b[0m \u001b[1;33m-\u001b[0m \u001b[0mx\u001b[0m\u001b[1;33m)\u001b[0m\u001b[1;33m\u001b[0m\u001b[0m\n\u001b[0m\u001b[0;32m      6\u001b[0m     \u001b[1;32mreturn\u001b[0m \u001b[0mhyperbel\u001b[0m\u001b[1;33m\u001b[0m\u001b[0m\n",
      "\u001b[1;31mZeroDivisionError\u001b[0m: float division by zero"
     ]
    }
   ],
   "source": [
    "@given(st.floats())\n",
    "def test_hyperbel(n):\n",
    "    hyperbel = hyperbel_mit_unstetigkeit(5.0)\n",
    "    assert isinstance(hyperbel(n), object)\n",
    "    \n",
    "test_hyperbel()"
   ]
  },
  {
   "cell_type": "code",
   "execution_count": 302,
   "metadata": {
    "collapsed": false
   },
   "outputs": [],
   "source": [
    "from math import pi\n",
    "\n",
    "@given(st.floats())\n",
    "def test_hyperbel(n):\n",
    "    hyperbel = hyperbel_mit_unstetigkeit(pi)\n",
    "    assert isinstance(hyperbel(n), object)\n",
    "    \n",
    "test_hyperbel()"
   ]
  },
  {
   "cell_type": "code",
   "execution_count": 303,
   "metadata": {
    "collapsed": false
   },
   "outputs": [
    {
     "data": {
      "text/plain": [
       "True"
      ]
     },
     "execution_count": 303,
     "metadata": {},
     "output_type": "execute_result"
    }
   ],
   "source": [
    "# Nebenbemerkung\n",
    "\n",
    "pi + (-pi) == 0"
   ]
  },
  {
   "cell_type": "markdown",
   "metadata": {
    "collapsed": true
   },
   "source": [
    "## Strategien verknüpfen"
   ]
  },
  {
   "cell_type": "code",
   "execution_count": 306,
   "metadata": {
    "collapsed": false
   },
   "outputs": [
    {
     "name": "stdout",
     "output_type": "stream",
     "text": [
      "Help on method flatmap in module hypothesis.searchstrategy.strategies:\n",
      "\n",
      "flatmap(expand) method of hypothesis.searchstrategy.reprwrapper.ReprWrapperStrategy instance\n",
      "    Returns a new strategy that generates values by generating a value\n",
      "    from this strategy, say x, then generating a value from\n",
      "    strategy(expand(x))\n",
      "    \n",
      "    This method is part of the public API.\n",
      "\n"
     ]
    }
   ],
   "source": [
    "help(st.integers().flatmap) # ???"
   ]
  },
  {
   "cell_type": "markdown",
   "metadata": {},
   "source": [
    "### Beispiel: Listen der Länge n mit Elementen aus [0..n]"
   ]
  },
  {
   "cell_type": "code",
   "execution_count": 331,
   "metadata": {
    "collapsed": false
   },
   "outputs": [
    {
     "data": {
      "text/plain": [
       "[[0, 2],\n",
       " [0, 5, 1, 4, 2],\n",
       " [10, 3, 9, 4, 8, 4, 0, 3, 7, 9],\n",
       " [0],\n",
       " [4, 4, 6, 6, 5, 5, 5]]"
      ]
     },
     "execution_count": 331,
     "metadata": {},
     "output_type": "execute_result"
    }
   ],
   "source": [
    "small_ints = st.integers(min_value=0, max_value=10)\n",
    "special_lists = small_ints.flatmap(\n",
    "    lambda n: st.lists(st.integers(min_value=0, max_value=n), min_size=n, max_size=n)\n",
    ")\n",
    "[special_lists.example() for _ in range(5)]"
   ]
  },
  {
   "cell_type": "markdown",
   "metadata": {},
   "source": [
    "## Strings"
   ]
  },
  {
   "cell_type": "code",
   "execution_count": 335,
   "metadata": {
    "collapsed": false
   },
   "outputs": [
    {
     "name": "stdout",
     "output_type": "stream",
     "text": [
      "['ă^ăr1^\\n\\x89ă\\x891^ă\\n\\n\\x89\\x89\\x9eă',\n",
      " 'ǐm\\U000f383f Z\\x05흨ǐ\\U00075029',\n",
      " 'I\\x01',\n",
      " '\\x82\\x84\\t\\x1b\\x1e',\n",
      " '\\r\\x85\\x0c\\x87']\n"
     ]
    }
   ],
   "source": [
    "from pprint import pprint\n",
    "\n",
    "strat = st.text()\n",
    "pprint([strat.example() for _ in range(5)])"
   ]
  },
  {
   "cell_type": "markdown",
   "metadata": {},
   "source": [
    "## Offene Intervalle"
   ]
  },
  {
   "cell_type": "code",
   "execution_count": 344,
   "metadata": {
    "collapsed": false
   },
   "outputs": [
    {
     "data": {
      "text/plain": [
       "[0.16412421076454267,\n",
       " 0.40942398612599684,\n",
       " 0.8156785897510119,\n",
       " 0.5,\n",
       " 0.5689206788828095]"
      ]
     },
     "execution_count": 344,
     "metadata": {},
     "output_type": "execute_result"
    }
   ],
   "source": [
    "def open_interval(lower_endpoint=None, upper_endpoint=None):\n",
    "    return st.floats(min_value=lower_endpoint, max_value=upper_endpoint).filter(\n",
    "        lambda n: n not in (lower_endpoint, upper_endpoint)\n",
    "    )\n",
    "\n",
    "[open_interval(0, 1).example() for _ in range(5)]"
   ]
  },
  {
   "cell_type": "markdown",
   "metadata": {},
   "source": [
    "## Ziehen von zufälligen Elementen aus einer vorgegebenen Menge"
   ]
  },
  {
   "cell_type": "code",
   "execution_count": 346,
   "metadata": {
    "collapsed": false
   },
   "outputs": [
    {
     "data": {
      "text/plain": [
       "['y', 'n', 'z', 'x', 'h']"
      ]
     },
     "execution_count": 346,
     "metadata": {},
     "output_type": "execute_result"
    }
   ],
   "source": [
    "from string import ascii_lowercase\n",
    "\n",
    "random_lowercase_letter = st.sampled_from(ascii_lowercase)\n",
    "\n",
    "[random_lowercase_letter.example() for _ in range(5)]"
   ]
  },
  {
   "cell_type": "markdown",
   "metadata": {},
   "source": [
    "## Vorteile von Property-based Testing"
   ]
  },
  {
   "cell_type": "markdown",
   "metadata": {},
   "source": [
    "* Kann Sonderfälle finden, auf die man selbst nicht so schnell gekommen wäre\n",
    "* Viele Testcases mit wenig Code\n",
    "* Regt an, über Spezifikationen nachzudenken"
   ]
  },
  {
   "cell_type": "markdown",
   "metadata": {},
   "source": [
    "## Nachteile von Property-based Testing"
   ]
  },
  {
   "cell_type": "markdown",
   "metadata": {},
   "source": [
    "* Geeignete Properties sind nicht immer leicht zu finden\n",
    "* Testdurchläufe können lange dauern\n",
    "* Tests können kompliziert werden, gar selbst testbedürftig werden"
   ]
  },
  {
   "cell_type": "markdown",
   "metadata": {},
   "source": [
    "## Weiterführendes"
   ]
  },
  {
   "cell_type": "markdown",
   "metadata": {},
   "source": [
    "Apis testen:\n",
    "    \n",
    "* http://wildfish.com/blog/2015/10/01/using-gabbi-and-hypothesis-test-django-apis/\n",
    "* http://hypothesis.readthedocs.org/en/latest/examples.html#fuzzing-an-http-api"
   ]
  },
  {
   "cell_type": "markdown",
   "metadata": {},
   "source": [
    "Eine Testsuite vom Hypothesis-Autor selbst:\n",
    "\n",
    "https://github.com/DRMacIver/intset/blob/master/tests/test_intset.py"
   ]
  }
 ],
 "metadata": {
  "kernelspec": {
   "display_name": "Python 3",
   "language": "python",
   "name": "python3"
  },
  "language_info": {
   "codemirror_mode": {
    "name": "ipython",
    "version": 3
   },
   "file_extension": ".py",
   "mimetype": "text/x-python",
   "name": "python",
   "nbconvert_exporter": "python",
   "pygments_lexer": "ipython3",
   "version": "3.4.3"
  }
 },
 "nbformat": 4,
 "nbformat_minor": 0
}
