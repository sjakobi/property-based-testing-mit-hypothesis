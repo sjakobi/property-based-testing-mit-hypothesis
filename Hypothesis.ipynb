{
 "cells": [
  {
   "cell_type": "markdown",
   "metadata": {},
   "source": [
    "# Property-based Testing mit Hypothesis"
   ]
  },
  {
   "cell_type": "markdown",
   "metadata": {},
   "source": [
    "Simon Jakobi (https://github.com/sjakobi)"
   ]
  },
  {
   "cell_type": "markdown",
   "metadata": {},
   "source": [
    "http://hypothesis.readthedocs.org"
   ]
  },
  {
   "cell_type": "markdown",
   "metadata": {},
   "source": [
    "## Properties"
   ]
  },
  {
   "cell_type": "markdown",
   "metadata": {},
   "source": [
    "* Hält meine Funktion für alle gültigen Inputs einen ordentlichen Output aus?\n",
    "* gilt `decode(encode(x)) == x`?"
   ]
  },
  {
   "cell_type": "code",
   "execution_count": 136,
   "metadata": {
    "collapsed": false
   },
   "outputs": [
    {
     "name": "stdout",
     "output_type": "stream",
     "text": [
      "Falsifying example: test_int_str_conversion(n=0)\n"
     ]
    },
    {
     "ename": "AssertionError",
     "evalue": "",
     "output_type": "error",
     "traceback": [
      "\u001b[1;31m---------------------------------------------------------------------------\u001b[0m",
      "\u001b[1;31mAssertionError\u001b[0m                            Traceback (most recent call last)",
      "\u001b[1;32m<ipython-input-136-09a73cf1a07b>\u001b[0m in \u001b[0;36m<module>\u001b[1;34m()\u001b[0m\n\u001b[0;32m      6\u001b[0m     \u001b[1;32massert\u001b[0m \u001b[0mint\u001b[0m\u001b[1;33m(\u001b[0m\u001b[0mstr\u001b[0m\u001b[1;33m(\u001b[0m\u001b[0mn\u001b[0m\u001b[1;33m)\u001b[0m\u001b[1;33m)\u001b[0m \u001b[1;33m==\u001b[0m \u001b[0mn\u001b[0m \u001b[1;33m+\u001b[0m \u001b[1;36m3\u001b[0m\u001b[1;33m\u001b[0m\u001b[0m\n\u001b[0;32m      7\u001b[0m \u001b[1;33m\u001b[0m\u001b[0m\n\u001b[1;32m----> 8\u001b[1;33m \u001b[0mtest_int_str_conversion\u001b[0m\u001b[1;33m(\u001b[0m\u001b[1;33m)\u001b[0m\u001b[1;33m\u001b[0m\u001b[0m\n\u001b[0m",
      "\u001b[1;32m/home/simon/Dropbox/prog/python/lpug/hypothesis-talk/.hypothesis/eval_source/hypothesis_temporary_module_6b769fcefd205feffd13852f9ba3738349434875.py\u001b[0m in \u001b[0;36mtest_int_str_conversion\u001b[1;34m(n)\u001b[0m\n\u001b[0;32m      3\u001b[0m \u001b[1;32mdef\u001b[0m \u001b[0maccept\u001b[0m\u001b[1;33m(\u001b[0m\u001b[0mf\u001b[0m\u001b[1;33m)\u001b[0m\u001b[1;33m:\u001b[0m\u001b[1;33m\u001b[0m\u001b[0m\n\u001b[0;32m      4\u001b[0m     \u001b[1;32mdef\u001b[0m \u001b[0mtest_int_str_conversion\u001b[0m\u001b[1;33m(\u001b[0m\u001b[0mn\u001b[0m\u001b[1;33m=\u001b[0m\u001b[0mnot_set\u001b[0m\u001b[1;33m)\u001b[0m\u001b[1;33m:\u001b[0m\u001b[1;33m\u001b[0m\u001b[0m\n\u001b[1;32m----> 5\u001b[1;33m         \u001b[1;32mreturn\u001b[0m \u001b[0mf\u001b[0m\u001b[1;33m(\u001b[0m\u001b[0mn\u001b[0m\u001b[1;33m)\u001b[0m\u001b[1;33m\u001b[0m\u001b[0m\n\u001b[0m\u001b[0;32m      6\u001b[0m     \u001b[1;32mreturn\u001b[0m \u001b[0mtest_int_str_conversion\u001b[0m\u001b[1;33m\u001b[0m\u001b[0m\n",
      "\u001b[1;32m/home/simon/.venvs/hypothesis34/lib/python3.4/site-packages/hypothesis/core.py\u001b[0m in \u001b[0;36mwrapped_test\u001b[1;34m(*arguments, **kwargs)\u001b[0m\n\u001b[0;32m    575\u001b[0m                 test_runner(reify_and_execute(\n\u001b[0;32m    576\u001b[0m                     \u001b[0msearch_strategy\u001b[0m\u001b[1;33m,\u001b[0m \u001b[0mfalsifying_template\u001b[0m\u001b[1;33m,\u001b[0m \u001b[0mtest\u001b[0m\u001b[1;33m,\u001b[0m\u001b[1;33m\u001b[0m\u001b[0m\n\u001b[1;32m--> 577\u001b[1;33m                     \u001b[0mprint_example\u001b[0m\u001b[1;33m=\u001b[0m\u001b[1;32mTrue\u001b[0m\u001b[1;33m\u001b[0m\u001b[0m\n\u001b[0m\u001b[0;32m    578\u001b[0m                 ))\n\u001b[0;32m    579\u001b[0m \u001b[1;33m\u001b[0m\u001b[0m\n",
      "\u001b[1;32m/home/simon/.venvs/hypothesis34/lib/python3.4/site-packages/hypothesis/executors/executors.py\u001b[0m in \u001b[0;36mdefault_executor\u001b[1;34m(function)\u001b[0m\n\u001b[0;32m     23\u001b[0m \u001b[1;33m\u001b[0m\u001b[0m\n\u001b[0;32m     24\u001b[0m \u001b[1;32mdef\u001b[0m \u001b[0mdefault_executor\u001b[0m\u001b[1;33m(\u001b[0m\u001b[0mfunction\u001b[0m\u001b[1;33m)\u001b[0m\u001b[1;33m:\u001b[0m\u001b[1;33m\u001b[0m\u001b[0m\n\u001b[1;32m---> 25\u001b[1;33m     \u001b[1;32mreturn\u001b[0m \u001b[0mfunction\u001b[0m\u001b[1;33m(\u001b[0m\u001b[1;33m)\u001b[0m\u001b[1;33m\u001b[0m\u001b[0m\n\u001b[0m\u001b[0;32m     26\u001b[0m \u001b[1;33m\u001b[0m\u001b[0m\n\u001b[0;32m     27\u001b[0m \u001b[1;33m\u001b[0m\u001b[0m\n",
      "\u001b[1;32m/home/simon/.venvs/hypothesis34/lib/python3.4/site-packages/hypothesis/core.py\u001b[0m in \u001b[0;36mrun\u001b[1;34m()\u001b[0m\n\u001b[0;32m    367\u001b[0m             \u001b[1;32mif\u001b[0m \u001b[0mrecord_repr\u001b[0m \u001b[1;32mis\u001b[0m \u001b[1;32mnot\u001b[0m \u001b[1;32mNone\u001b[0m\u001b[1;33m:\u001b[0m\u001b[1;33m\u001b[0m\u001b[0m\n\u001b[0;32m    368\u001b[0m                 \u001b[0mrecord_repr\u001b[0m\u001b[1;33m[\u001b[0m\u001b[1;36m0\u001b[0m\u001b[1;33m]\u001b[0m \u001b[1;33m=\u001b[0m \u001b[0mtext_version\u001b[0m\u001b[1;33m\u001b[0m\u001b[0m\n\u001b[1;32m--> 369\u001b[1;33m             \u001b[1;32mreturn\u001b[0m \u001b[0mtest\u001b[0m\u001b[1;33m(\u001b[0m\u001b[1;33m*\u001b[0m\u001b[0margs\u001b[0m\u001b[1;33m,\u001b[0m \u001b[1;33m**\u001b[0m\u001b[0mkwargs\u001b[0m\u001b[1;33m)\u001b[0m\u001b[1;33m\u001b[0m\u001b[0m\n\u001b[0m\u001b[0;32m    370\u001b[0m     \u001b[1;32mreturn\u001b[0m \u001b[0mrun\u001b[0m\u001b[1;33m\u001b[0m\u001b[0m\n\u001b[0;32m    371\u001b[0m \u001b[1;33m\u001b[0m\u001b[0m\n",
      "\u001b[1;32m<ipython-input-136-09a73cf1a07b>\u001b[0m in \u001b[0;36mtest_int_str_conversion\u001b[1;34m(n)\u001b[0m\n\u001b[0;32m      4\u001b[0m \u001b[1;33m@\u001b[0m\u001b[0mgiven\u001b[0m\u001b[1;33m(\u001b[0m\u001b[0mst\u001b[0m\u001b[1;33m.\u001b[0m\u001b[0mintegers\u001b[0m\u001b[1;33m(\u001b[0m\u001b[1;33m)\u001b[0m\u001b[1;33m)\u001b[0m\u001b[1;33m\u001b[0m\u001b[0m\n\u001b[0;32m      5\u001b[0m \u001b[1;32mdef\u001b[0m \u001b[0mtest_int_str_conversion\u001b[0m\u001b[1;33m(\u001b[0m\u001b[0mn\u001b[0m\u001b[1;33m)\u001b[0m\u001b[1;33m:\u001b[0m\u001b[1;33m\u001b[0m\u001b[0m\n\u001b[1;32m----> 6\u001b[1;33m     \u001b[1;32massert\u001b[0m \u001b[0mint\u001b[0m\u001b[1;33m(\u001b[0m\u001b[0mstr\u001b[0m\u001b[1;33m(\u001b[0m\u001b[0mn\u001b[0m\u001b[1;33m)\u001b[0m\u001b[1;33m)\u001b[0m \u001b[1;33m==\u001b[0m \u001b[0mn\u001b[0m \u001b[1;33m+\u001b[0m \u001b[1;36m3\u001b[0m\u001b[1;33m\u001b[0m\u001b[0m\n\u001b[0m\u001b[0;32m      7\u001b[0m \u001b[1;33m\u001b[0m\u001b[0m\n\u001b[0;32m      8\u001b[0m \u001b[0mtest_int_str_conversion\u001b[0m\u001b[1;33m(\u001b[0m\u001b[1;33m)\u001b[0m\u001b[1;33m\u001b[0m\u001b[0m\n",
      "\u001b[1;31mAssertionError\u001b[0m: "
     ]
    }
   ],
   "source": [
    "from hypothesis import given\n",
    "import hypothesis.strategies as st\n",
    "\n",
    "@given(st.integers())\n",
    "def test_int_str_conversion(n):\n",
    "    assert int(str(n)) == n + 3\n",
    "    \n",
    "test_int_str_conversion()"
   ]
  },
  {
   "cell_type": "code",
   "execution_count": 147,
   "metadata": {
    "collapsed": true
   },
   "outputs": [
    {
     "name": "stdout",
     "output_type": "stream",
     "text": [
      "Trying example: test_float_str_conversion(n=nan)\n",
      "Trying example: test_float_str_conversion(n=2.1718898336961224e-308)\n",
      "Trying example: test_float_str_conversion(n=2.439002582286872e+171)\n",
      "Trying example: test_float_str_conversion(n=2.43343449057803e-309)\n",
      "Trying example: test_float_str_conversion(n=9.224387598352012e+194)\n",
      "Trying example: test_float_str_conversion(n=-5.19742018467483e+198)\n",
      "Trying example: test_float_str_conversion(n=1.1509345063172101e+61)\n",
      "Trying example: test_float_str_conversion(n=-1.1423116146569761e+191)\n",
      "Trying example: test_float_str_conversion(n=9.052443705885417e-25)\n",
      "Trying example: test_float_str_conversion(n=1.21122104621569e+41)\n",
      "Trying example: test_float_str_conversion(n=-7.57954637549207e-109)\n",
      "Trying example: test_float_str_conversion(n=6.0)\n",
      "Trying example: test_float_str_conversion(n=32.0)\n",
      "Trying example: test_float_str_conversion(n=9.0)\n",
      "Trying example: test_float_str_conversion(n=11.0)\n",
      "Trying example: test_float_str_conversion(n=1.0)\n",
      "Trying example: test_float_str_conversion(n=16.0)\n",
      "Trying example: test_float_str_conversion(n=23.0)\n",
      "Trying example: test_float_str_conversion(n=5.0)\n",
      "Trying example: test_float_str_conversion(n=-3.72786065524807e-309)\n",
      "Trying example: test_float_str_conversion(n=-1.1767796589898671e+274)\n",
      "Trying example: test_float_str_conversion(n=-2.3620179055088544e+147)\n",
      "Trying example: test_float_str_conversion(n=-6.31874398422942e-309)\n",
      "Trying example: test_float_str_conversion(n=-3.668076768283237e-309)\n",
      "Trying example: test_float_str_conversion(n=-8.459565337105261e-284)\n",
      "Trying example: test_float_str_conversion(n=-6.035656364654801e+77)\n",
      "Trying example: test_float_str_conversion(n=-4.2531200375389926e-85)\n",
      "Trying example: test_float_str_conversion(n=-1.0682745956345107e-223)\n",
      "Trying example: test_float_str_conversion(n=-3.0290656348830515e-15)\n",
      "Trying example: test_float_str_conversion(n=1.7784910363057311e-68)\n",
      "Trying example: test_float_str_conversion(n=-29.0)\n",
      "Trying example: test_float_str_conversion(n=-68.0)\n",
      "Trying example: test_float_str_conversion(n=-4.8667709455482155e-244)\n",
      "Trying example: test_float_str_conversion(n=-6.0)\n",
      "Trying example: test_float_str_conversion(n=-34.0)\n",
      "Trying example: test_float_str_conversion(n=-1.423436734018504e+116)\n",
      "Trying example: test_float_str_conversion(n=-78.0)\n",
      "Trying example: test_float_str_conversion(n=-2.5068567137895896e-267)\n",
      "Trying example: test_float_str_conversion(n=3.67820555849126e-309)\n",
      "Trying example: test_float_str_conversion(n=2.156848492554321e-82)\n",
      "Trying example: test_float_str_conversion(n=2.796323528987612e-179)\n",
      "Trying example: test_float_str_conversion(n=-2.15211055320523e-169)\n",
      "Trying example: test_float_str_conversion(n=0.02339147737916898)\n",
      "Trying example: test_float_str_conversion(n=1.701957489640453e+144)\n",
      "Trying example: test_float_str_conversion(n=1.1273525144919973e-122)\n",
      "Trying example: test_float_str_conversion(n=5.294881402227086e-137)\n",
      "Trying example: test_float_str_conversion(n=2.0561083421662458e+158)\n",
      "Trying example: test_float_str_conversion(n=-8.340723466108707e+304)\n",
      "Trying example: test_float_str_conversion(n=2.06702069497033e-244)\n",
      "Trying example: test_float_str_conversion(n=7.052413183654248e+280)\n",
      "Trying example: test_float_str_conversion(n=7.779465009889535e+37)\n",
      "Trying example: test_float_str_conversion(n=2.029146652859861e+86)\n",
      "Trying example: test_float_str_conversion(n=0.0)\n",
      "Trying example: test_float_str_conversion(n=0.3916564602177203)\n",
      "Trying example: test_float_str_conversion(n=-7.528187224903549e-17)\n",
      "Trying example: test_float_str_conversion(n=-0.6831201781038065)\n",
      "Trying example: test_float_str_conversion(n=1.7976931348623157e+308)\n",
      "Trying example: test_float_str_conversion(n=-0.7027457848354172)\n",
      "Trying example: test_float_str_conversion(n=-0.0)\n",
      "Trying example: test_float_str_conversion(n=2.8441684747071113e+239)\n",
      "Trying example: test_float_str_conversion(n=2114838423619.3682)\n",
      "Trying example: test_float_str_conversion(n=1.6020668724418156e-224)\n",
      "Trying example: test_float_str_conversion(n=2.162592707231183e-308)\n",
      "Trying example: test_float_str_conversion(n=1.701553652271441e-294)\n",
      "Trying example: test_float_str_conversion(n=3.8914496046264942e-199)\n",
      "Trying example: test_float_str_conversion(n=2.0760490982014976e-308)\n",
      "Trying example: test_float_str_conversion(n=1.254857423385968e-308)\n",
      "Trying example: test_float_str_conversion(n=7.96668668265329e-309)\n",
      "Trying example: test_float_str_conversion(n=9.872675827831671e+259)\n",
      "Trying example: test_float_str_conversion(n=5.797676584721603e+222)\n",
      "Trying example: test_float_str_conversion(n=-3.1171575467550595e-179)\n",
      "Trying example: test_float_str_conversion(n=-5.464648070112212e+252)\n",
      "Trying example: test_float_str_conversion(n=-2.625859568908632e+256)\n",
      "Trying example: test_float_str_conversion(n=-1.7976931348623157e+308)\n",
      "Trying example: test_float_str_conversion(n=-2.922188881578566e-138)\n",
      "Trying example: test_float_str_conversion(n=-6.149337930938735e+209)\n",
      "Trying example: test_float_str_conversion(n=1.9288230574376667e+24)\n",
      "Trying example: test_float_str_conversion(n=6.293209234522533e-309)\n",
      "Trying example: test_float_str_conversion(n=6.57952566583425e+56)\n",
      "Trying example: test_float_str_conversion(n=2.5358729456320343e-127)\n",
      "Trying example: test_float_str_conversion(n=2.0544545090182944e+83)\n",
      "Trying example: test_float_str_conversion(n=5.173752574909287e-309)\n",
      "Trying example: test_float_str_conversion(n=2.7607966982233687e-124)\n",
      "Trying example: test_float_str_conversion(n=2.5384054084582497e+216)\n",
      "Trying example: test_float_str_conversion(n=5.24108404402899e-136)\n",
      "Trying example: test_float_str_conversion(n=1.5913262948394902e-208)\n",
      "Trying example: test_float_str_conversion(n=2.0174242915103963e-308)\n",
      "Trying example: test_float_str_conversion(n=-1.0541969893079721e-22)\n",
      "Trying example: test_float_str_conversion(n=-4.132285705417e-309)\n",
      "Trying example: test_float_str_conversion(n=-1.1461128971903926e-308)\n",
      "Trying example: test_float_str_conversion(n=1.790811704132234e-53)\n",
      "Trying example: test_float_str_conversion(n=-4.0188745753503964e+21)\n",
      "Trying example: test_float_str_conversion(n=-1.170301523737386e-308)\n",
      "Trying example: test_float_str_conversion(n=-2.0002701266357764e-308)\n",
      "Trying example: test_float_str_conversion(n=-7.022851839230213e-102)\n",
      "Trying example: test_float_str_conversion(n=-1.75643050131293e-308)\n",
      "Trying example: test_float_str_conversion(n=-2.921165790598106e-241)\n",
      "Trying example: test_float_str_conversion(n=-1.053511614619073e-308)\n",
      "Trying example: test_float_str_conversion(n=-0.0001051716345914657)\n",
      "Trying example: test_float_str_conversion(n=312.13105848393707)\n",
      "Trying example: test_float_str_conversion(n=-65.67524811383387)\n",
      "Trying example: test_float_str_conversion(n=176.9717722849237)\n",
      "Trying example: test_float_str_conversion(n=-692.90961014076)\n",
      "Trying example: test_float_str_conversion(n=1422.8019124507418)\n",
      "Trying example: test_float_str_conversion(n=-3484.0)\n",
      "Trying example: test_float_str_conversion(n=187.76930469251104)\n",
      "Trying example: test_float_str_conversion(n=128.75008872151543)\n",
      "Trying example: test_float_str_conversion(n=-1334.0)\n",
      "Trying example: test_float_str_conversion(n=-56.62158375788971)\n",
      "Trying example: test_float_str_conversion(n=1200.5917306116235)\n",
      "Trying example: test_float_str_conversion(n=-2.2250738585072014e-308)\n",
      "Trying example: test_float_str_conversion(n=-inf)\n",
      "Trying example: test_float_str_conversion(n=70.0)\n",
      "Trying example: test_float_str_conversion(n=-50701875.0)\n",
      "Trying example: test_float_str_conversion(n=-5.952167201882524e-250)\n",
      "Trying example: test_float_str_conversion(n=57258824.0)\n",
      "Trying example: test_float_str_conversion(n=-49026182.0)\n",
      "Trying example: test_float_str_conversion(n=-415494801.0)\n",
      "Trying example: test_float_str_conversion(n=-7.141021859383246e+292)\n",
      "Trying example: test_float_str_conversion(n=-1.6197439861152285e-308)\n",
      "Trying example: test_float_str_conversion(n=-151511618.0)\n",
      "Trying example: test_float_str_conversion(n=-3388852.0)\n",
      "Trying example: test_float_str_conversion(n=-230118681.0)\n",
      "Trying example: test_float_str_conversion(n=422270256348.08057)\n",
      "Trying example: test_float_str_conversion(n=5.174859108759572e+215)\n",
      "Trying example: test_float_str_conversion(n=1.0850095605365235e-308)\n",
      "Trying example: test_float_str_conversion(n=5.18861876729556e+25)\n",
      "Trying example: test_float_str_conversion(n=1.53982559458426e+104)\n",
      "Trying example: test_float_str_conversion(n=8.497738075690876e+268)\n",
      "Trying example: test_float_str_conversion(n=7.4404176438277215e-90)\n",
      "Trying example: test_float_str_conversion(n=2.5566528945138387e-200)\n",
      "Trying example: test_float_str_conversion(n=1.5787646871757693e-12)\n",
      "Trying example: test_float_str_conversion(n=7.312109146851825e+18)\n",
      "Trying example: test_float_str_conversion(n=-5.253369208448273e-265)\n",
      "Trying example: test_float_str_conversion(n=1.2930307760304146e-308)\n",
      "Trying example: test_float_str_conversion(n=-1.7740446076500635e+222)\n",
      "Trying example: test_float_str_conversion(n=-1.6968634857808175e+281)\n",
      "Trying example: test_float_str_conversion(n=-6.311680310423058e+92)\n",
      "Trying example: test_float_str_conversion(n=-9.710294736715418e-63)\n",
      "Trying example: test_float_str_conversion(n=-1.576412703773912e+62)\n",
      "Trying example: test_float_str_conversion(n=-2.8082847267937237e-127)\n",
      "Trying example: test_float_str_conversion(n=-1.9747893125667322e-07)\n",
      "Trying example: test_float_str_conversion(n=-2.3251712237564e-310)\n",
      "Trying example: test_float_str_conversion(n=-1.959032284772729e-308)\n",
      "Trying example: test_float_str_conversion(n=-1.781678117995532e-262)\n",
      "Trying example: test_float_str_conversion(n=-1.843722627483113e-308)\n",
      "Trying example: test_float_str_conversion(n=-2.3826944447311763e+228)\n",
      "Trying example: test_float_str_conversion(n=-5.097913896874097e-309)\n",
      "Trying example: test_float_str_conversion(n=-1.730371607027746e-75)\n",
      "Trying example: test_float_str_conversion(n=-7.30455877586219e-309)\n",
      "Trying example: test_float_str_conversion(n=1.4345713587701818e+153)\n",
      "Trying example: test_float_str_conversion(n=-5.482000121925136e+229)\n",
      "Trying example: test_float_str_conversion(n=-1.2262299617658975e-308)\n",
      "Trying example: test_float_str_conversion(n=2.2649161304746587e+296)\n",
      "Trying example: test_float_str_conversion(n=9.744636033771204e-309)\n",
      "Trying example: test_float_str_conversion(n=3.85729848087823e-310)\n",
      "Trying example: test_float_str_conversion(n=-2.2076656037602893e+219)\n",
      "Trying example: test_float_str_conversion(n=1814.575669276995)\n",
      "Trying example: test_float_str_conversion(n=1.4362585134780244)\n",
      "Trying example: test_float_str_conversion(n=1.3661886453126413)\n",
      "Trying example: test_float_str_conversion(n=1.426895418284827)\n",
      "Trying example: test_float_str_conversion(n=1.3712480194785743)\n",
      "Trying example: test_float_str_conversion(n=1.4208396533681014)\n",
      "Trying example: test_float_str_conversion(n=1.4448041730898122)\n",
      "Trying example: test_float_str_conversion(n=1.3901830765820393)\n",
      "Trying example: test_float_str_conversion(n=1.4322429677903474)\n",
      "Trying example: test_float_str_conversion(n=1.3671277564849809)\n",
      "Trying example: test_float_str_conversion(n=1.4230971269088508)\n",
      "Trying example: test_float_str_conversion(n=1.367373372799268)\n",
      "Trying example: test_float_str_conversion(n=7.420010557488439e+158)\n",
      "Trying example: test_float_str_conversion(n=-5.622033129306113e-309)\n",
      "Trying example: test_float_str_conversion(n=1.9197845989117646e+102)\n",
      "Trying example: test_float_str_conversion(n=-3.6568804966578625e-144)\n",
      "Trying example: test_float_str_conversion(n=0.012818626174361313)\n",
      "Trying example: test_float_str_conversion(n=9.268921600053308e-32)\n",
      "Trying example: test_float_str_conversion(n=-4.562216283636505e-100)\n",
      "Trying example: test_float_str_conversion(n=-4.1188965291951807e+217)\n",
      "Trying example: test_float_str_conversion(n=-1.2903376860469053e-305)\n",
      "Trying example: test_float_str_conversion(n=-1.3563957877259987e-37)\n",
      "Trying example: test_float_str_conversion(n=3.9427719048299273e-188)\n",
      "Trying example: test_float_str_conversion(n=1.5464050567664895e-201)\n",
      "Trying example: test_float_str_conversion(n=-1.4244682169234998e-287)\n",
      "Trying example: test_float_str_conversion(n=-2.7624483740791154e-84)\n",
      "Trying example: test_float_str_conversion(n=1.4661750069409968e+29)\n",
      "Trying example: test_float_str_conversion(n=-1.2734407872789576e+153)\n",
      "Trying example: test_float_str_conversion(n=-1.2100389778652552e+63)\n",
      "Trying example: test_float_str_conversion(n=-1.8894143334954151e+220)\n",
      "Trying example: test_float_str_conversion(n=-4.691571792265067e+167)\n",
      "Trying example: test_float_str_conversion(n=-1.2080313240782376e-308)\n",
      "Trying example: test_float_str_conversion(n=-4.9526529124068964e+219)\n",
      "Trying example: test_float_str_conversion(n=1.761300892227042e-308)\n",
      "Trying example: test_float_str_conversion(n=1.916395623257067e-103)\n",
      "Trying example: test_float_str_conversion(n=-2.106126959326315e-39)\n",
      "Trying example: test_float_str_conversion(n=-2.2831098379151337e+172)\n",
      "Trying example: test_float_str_conversion(n=-2.243549051587849e-11)\n",
      "Trying example: test_float_str_conversion(n=-7.899989330255544e-123)\n",
      "Trying example: test_float_str_conversion(n=-7.359252824551733e-309)\n",
      "Trying example: test_float_str_conversion(n=-1.0138389849680801e-288)\n",
      "Trying example: test_float_str_conversion(n=-7.92535546059621e-309)\n",
      "Trying example: test_float_str_conversion(n=-1.2935877634852591e+296)\n",
      "Trying example: test_float_str_conversion(n=-7.313797430436901e-175)\n"
     ]
    }
   ],
   "source": [
    "from hypothesis import Settings, assume, Verbosity, example\n",
    "from math import isnan\n",
    "\n",
    "@example(-0.0)\n",
    "@example()\n",
    "@given(st.floats(), settings=Settings(verbosity=Verbosity.verbose))\n",
    "def test_float_str_conversion(n):\n",
    "    assume(not isnan(n))\n",
    "    assert float(str(n)) == n\n",
    "    \n",
    "test_float_str_conversion()"
   ]
  },
  {
   "cell_type": "code",
   "execution_count": 153,
   "metadata": {
    "collapsed": false
   },
   "outputs": [],
   "source": [
    "def quicksort(lst):\n",
    "    if not lst:\n",
    "        return []\n",
    "    lst_ = lst[:]\n",
    "    x = lst_.pop()\n",
    "    return (quicksort([y for y in lst_ if y <= x]) +\n",
    "            [x] +\n",
    "            quicksort([y for y in lst_ if y >= x]))"
   ]
  },
  {
   "cell_type": "code",
   "execution_count": null,
   "metadata": {
    "collapsed": true
   },
   "outputs": [],
   "source": [
    "sorted(sorted(xs)) == sorted(xs)"
   ]
  },
  {
   "cell_type": "code",
   "execution_count": 154,
   "metadata": {
    "collapsed": false
   },
   "outputs": [
    {
     "data": {
      "text/plain": [
       "[0]"
      ]
     },
     "execution_count": 154,
     "metadata": {},
     "output_type": "execute_result"
    }
   ],
   "source": [
    "quicksort([0])"
   ]
  },
  {
   "cell_type": "code",
   "execution_count": 155,
   "metadata": {
    "collapsed": false
   },
   "outputs": [
    {
     "data": {
      "text/plain": [
       "[0]"
      ]
     },
     "execution_count": 155,
     "metadata": {},
     "output_type": "execute_result"
    }
   ],
   "source": [
    "quicksort(quicksort([0]))b"
   ]
  },
  {
   "cell_type": "code",
   "execution_count": 161,
   "metadata": {
    "collapsed": false
   },
   "outputs": [
    {
     "data": {
      "text/plain": [
       "[0]"
      ]
     },
     "execution_count": 161,
     "metadata": {},
     "output_type": "execute_result"
    }
   ],
   "source": [
    "quicksort([0])"
   ]
  },
  {
   "cell_type": "code",
   "execution_count": 158,
   "metadata": {
    "collapsed": false
   },
   "outputs": [
    {
     "name": "stdout",
     "output_type": "stream",
     "text": [
      "Falsifying example: test_quicksort_is_idempotent(lst=[0, 0])\n"
     ]
    },
    {
     "ename": "AssertionError",
     "evalue": "",
     "output_type": "error",
     "traceback": [
      "\u001b[1;31m---------------------------------------------------------------------------\u001b[0m",
      "\u001b[1;31mAssertionError\u001b[0m                            Traceback (most recent call last)",
      "\u001b[1;32m<ipython-input-158-6e9aff806eb5>\u001b[0m in \u001b[0;36m<module>\u001b[1;34m()\u001b[0m\n\u001b[0;32m      4\u001b[0m     \u001b[1;32massert\u001b[0m \u001b[0mquicksort\u001b[0m\u001b[1;33m(\u001b[0m\u001b[0msorted_\u001b[0m\u001b[1;33m)\u001b[0m \u001b[1;33m==\u001b[0m \u001b[0msorted_\u001b[0m\u001b[1;33m\u001b[0m\u001b[0m\n\u001b[0;32m      5\u001b[0m \u001b[1;33m\u001b[0m\u001b[0m\n\u001b[1;32m----> 6\u001b[1;33m \u001b[0mtest_quicksort_is_idempotent\u001b[0m\u001b[1;33m(\u001b[0m\u001b[1;33m)\u001b[0m\u001b[1;33m\u001b[0m\u001b[0m\n\u001b[0m",
      "\u001b[1;32m/home/simon/Dropbox/prog/python/lpug/hypothesis-talk/.hypothesis/eval_source/hypothesis_temporary_module_4f7a5124f03629c9071b282352b53ca66efccd58.py\u001b[0m in \u001b[0;36mtest_quicksort_is_idempotent\u001b[1;34m(lst)\u001b[0m\n\u001b[0;32m      3\u001b[0m \u001b[1;32mdef\u001b[0m \u001b[0maccept\u001b[0m\u001b[1;33m(\u001b[0m\u001b[0mf\u001b[0m\u001b[1;33m)\u001b[0m\u001b[1;33m:\u001b[0m\u001b[1;33m\u001b[0m\u001b[0m\n\u001b[0;32m      4\u001b[0m     \u001b[1;32mdef\u001b[0m \u001b[0mtest_quicksort_is_idempotent\u001b[0m\u001b[1;33m(\u001b[0m\u001b[0mlst\u001b[0m\u001b[1;33m=\u001b[0m\u001b[0mnot_set\u001b[0m\u001b[1;33m)\u001b[0m\u001b[1;33m:\u001b[0m\u001b[1;33m\u001b[0m\u001b[0m\n\u001b[1;32m----> 5\u001b[1;33m         \u001b[1;32mreturn\u001b[0m \u001b[0mf\u001b[0m\u001b[1;33m(\u001b[0m\u001b[0mlst\u001b[0m\u001b[1;33m)\u001b[0m\u001b[1;33m\u001b[0m\u001b[0m\n\u001b[0m\u001b[0;32m      6\u001b[0m     \u001b[1;32mreturn\u001b[0m \u001b[0mtest_quicksort_is_idempotent\u001b[0m\u001b[1;33m\u001b[0m\u001b[0m\n",
      "\u001b[1;32m/home/simon/.venvs/hypothesis34/lib/python3.4/site-packages/hypothesis/core.py\u001b[0m in \u001b[0;36mwrapped_test\u001b[1;34m(*arguments, **kwargs)\u001b[0m\n\u001b[0;32m    575\u001b[0m                 test_runner(reify_and_execute(\n\u001b[0;32m    576\u001b[0m                     \u001b[0msearch_strategy\u001b[0m\u001b[1;33m,\u001b[0m \u001b[0mfalsifying_template\u001b[0m\u001b[1;33m,\u001b[0m \u001b[0mtest\u001b[0m\u001b[1;33m,\u001b[0m\u001b[1;33m\u001b[0m\u001b[0m\n\u001b[1;32m--> 577\u001b[1;33m                     \u001b[0mprint_example\u001b[0m\u001b[1;33m=\u001b[0m\u001b[1;32mTrue\u001b[0m\u001b[1;33m\u001b[0m\u001b[0m\n\u001b[0m\u001b[0;32m    578\u001b[0m                 ))\n\u001b[0;32m    579\u001b[0m \u001b[1;33m\u001b[0m\u001b[0m\n",
      "\u001b[1;32m/home/simon/.venvs/hypothesis34/lib/python3.4/site-packages/hypothesis/executors/executors.py\u001b[0m in \u001b[0;36mdefault_executor\u001b[1;34m(function)\u001b[0m\n\u001b[0;32m     23\u001b[0m \u001b[1;33m\u001b[0m\u001b[0m\n\u001b[0;32m     24\u001b[0m \u001b[1;32mdef\u001b[0m \u001b[0mdefault_executor\u001b[0m\u001b[1;33m(\u001b[0m\u001b[0mfunction\u001b[0m\u001b[1;33m)\u001b[0m\u001b[1;33m:\u001b[0m\u001b[1;33m\u001b[0m\u001b[0m\n\u001b[1;32m---> 25\u001b[1;33m     \u001b[1;32mreturn\u001b[0m \u001b[0mfunction\u001b[0m\u001b[1;33m(\u001b[0m\u001b[1;33m)\u001b[0m\u001b[1;33m\u001b[0m\u001b[0m\n\u001b[0m\u001b[0;32m     26\u001b[0m \u001b[1;33m\u001b[0m\u001b[0m\n\u001b[0;32m     27\u001b[0m \u001b[1;33m\u001b[0m\u001b[0m\n",
      "\u001b[1;32m/home/simon/.venvs/hypothesis34/lib/python3.4/site-packages/hypothesis/core.py\u001b[0m in \u001b[0;36mrun\u001b[1;34m()\u001b[0m\n\u001b[0;32m    367\u001b[0m             \u001b[1;32mif\u001b[0m \u001b[0mrecord_repr\u001b[0m \u001b[1;32mis\u001b[0m \u001b[1;32mnot\u001b[0m \u001b[1;32mNone\u001b[0m\u001b[1;33m:\u001b[0m\u001b[1;33m\u001b[0m\u001b[0m\n\u001b[0;32m    368\u001b[0m                 \u001b[0mrecord_repr\u001b[0m\u001b[1;33m[\u001b[0m\u001b[1;36m0\u001b[0m\u001b[1;33m]\u001b[0m \u001b[1;33m=\u001b[0m \u001b[0mtext_version\u001b[0m\u001b[1;33m\u001b[0m\u001b[0m\n\u001b[1;32m--> 369\u001b[1;33m             \u001b[1;32mreturn\u001b[0m \u001b[0mtest\u001b[0m\u001b[1;33m(\u001b[0m\u001b[1;33m*\u001b[0m\u001b[0margs\u001b[0m\u001b[1;33m,\u001b[0m \u001b[1;33m**\u001b[0m\u001b[0mkwargs\u001b[0m\u001b[1;33m)\u001b[0m\u001b[1;33m\u001b[0m\u001b[0m\n\u001b[0m\u001b[0;32m    370\u001b[0m     \u001b[1;32mreturn\u001b[0m \u001b[0mrun\u001b[0m\u001b[1;33m\u001b[0m\u001b[0m\n\u001b[0;32m    371\u001b[0m \u001b[1;33m\u001b[0m\u001b[0m\n",
      "\u001b[1;32m<ipython-input-158-6e9aff806eb5>\u001b[0m in \u001b[0;36mtest_quicksort_is_idempotent\u001b[1;34m(lst)\u001b[0m\n\u001b[0;32m      2\u001b[0m \u001b[1;32mdef\u001b[0m \u001b[0mtest_quicksort_is_idempotent\u001b[0m\u001b[1;33m(\u001b[0m\u001b[0mlst\u001b[0m\u001b[1;33m)\u001b[0m\u001b[1;33m:\u001b[0m\u001b[1;33m\u001b[0m\u001b[0m\n\u001b[0;32m      3\u001b[0m     \u001b[0msorted_\u001b[0m \u001b[1;33m=\u001b[0m \u001b[0mquicksort\u001b[0m\u001b[1;33m(\u001b[0m\u001b[0mlst\u001b[0m\u001b[1;33m)\u001b[0m\u001b[1;33m\u001b[0m\u001b[0m\n\u001b[1;32m----> 4\u001b[1;33m     \u001b[1;32massert\u001b[0m \u001b[0mquicksort\u001b[0m\u001b[1;33m(\u001b[0m\u001b[0msorted_\u001b[0m\u001b[1;33m)\u001b[0m \u001b[1;33m==\u001b[0m \u001b[0msorted_\u001b[0m\u001b[1;33m\u001b[0m\u001b[0m\n\u001b[0m\u001b[0;32m      5\u001b[0m \u001b[1;33m\u001b[0m\u001b[0m\n\u001b[0;32m      6\u001b[0m \u001b[0mtest_quicksort_is_idempotent\u001b[0m\u001b[1;33m(\u001b[0m\u001b[1;33m)\u001b[0m\u001b[1;33m\u001b[0m\u001b[0m\n",
      "\u001b[1;31mAssertionError\u001b[0m: "
     ]
    }
   ],
   "source": [
    "@given(st.lists(st.integers(), max_size=3)) # settings=Settings(verbosity=Verbosity.verbose))\n",
    "def test_quicksort_is_idempotent(lst):\n",
    "    sorted_ = quicksort(lst)\n",
    "    assert quicksort(sorted_) == sorted_\n",
    "    \n",
    "test_quicksort_is_idempotent()"
   ]
  },
  {
   "cell_type": "code",
   "execution_count": 200,
   "metadata": {
    "collapsed": false
   },
   "outputs": [],
   "source": [
    "@given(st.lists(st.integers(), max_size=10),\n",
    "       st.tuples(st.integers(min_value=0, max_value=10), st.integers(min_value=0, max_value=10)))\n",
    "def test_quicksort_result_is_sorted(lst, indices):\n",
    "    assume(indices[0] < len(lst))\n",
    "    assume(indices[1] < len(lst))\n",
    "    idx1, idx2 = sorted(indices)\n",
    "    sorted_lst = quicksort(lst)\n",
    "    assert sorted_lst[idx1] <= sorted_lst[idx2]\n",
    "    \n",
    "test_quicksort_result_is_sorted()\n"
   ]
  },
  {
   "cell_type": "code",
   "execution_count": 162,
   "metadata": {
    "collapsed": false
   },
   "outputs": [
    {
     "name": "stdout",
     "output_type": "stream",
     "text": [
      "Falsifying example: test_compare_to_sorted(lst=[0, 0])\n"
     ]
    },
    {
     "ename": "AssertionError",
     "evalue": "",
     "output_type": "error",
     "traceback": [
      "\u001b[1;31m---------------------------------------------------------------------------\u001b[0m",
      "\u001b[1;31mAssertionError\u001b[0m                            Traceback (most recent call last)",
      "\u001b[1;32m<ipython-input-162-27823379da15>\u001b[0m in \u001b[0;36m<module>\u001b[1;34m()\u001b[0m\n\u001b[0;32m      3\u001b[0m     \u001b[1;32massert\u001b[0m \u001b[0mquicksort\u001b[0m\u001b[1;33m(\u001b[0m\u001b[0mlst\u001b[0m\u001b[1;33m)\u001b[0m \u001b[1;33m==\u001b[0m \u001b[0msorted\u001b[0m\u001b[1;33m(\u001b[0m\u001b[0mlst\u001b[0m\u001b[1;33m)\u001b[0m\u001b[1;33m\u001b[0m\u001b[0m\n\u001b[0;32m      4\u001b[0m \u001b[1;33m\u001b[0m\u001b[0m\n\u001b[1;32m----> 5\u001b[1;33m \u001b[0mtest_compare_to_sorted\u001b[0m\u001b[1;33m(\u001b[0m\u001b[1;33m)\u001b[0m\u001b[1;33m\u001b[0m\u001b[0m\n\u001b[0m",
      "\u001b[1;32m/home/simon/Dropbox/prog/python/lpug/hypothesis-talk/.hypothesis/eval_source/hypothesis_temporary_module_ba2e243fd938007ca787abec42a4dc70ca50db82.py\u001b[0m in \u001b[0;36mtest_compare_to_sorted\u001b[1;34m(lst)\u001b[0m\n\u001b[0;32m      3\u001b[0m \u001b[1;32mdef\u001b[0m \u001b[0maccept\u001b[0m\u001b[1;33m(\u001b[0m\u001b[0mf\u001b[0m\u001b[1;33m)\u001b[0m\u001b[1;33m:\u001b[0m\u001b[1;33m\u001b[0m\u001b[0m\n\u001b[0;32m      4\u001b[0m     \u001b[1;32mdef\u001b[0m \u001b[0mtest_compare_to_sorted\u001b[0m\u001b[1;33m(\u001b[0m\u001b[0mlst\u001b[0m\u001b[1;33m=\u001b[0m\u001b[0mnot_set\u001b[0m\u001b[1;33m)\u001b[0m\u001b[1;33m:\u001b[0m\u001b[1;33m\u001b[0m\u001b[0m\n\u001b[1;32m----> 5\u001b[1;33m         \u001b[1;32mreturn\u001b[0m \u001b[0mf\u001b[0m\u001b[1;33m(\u001b[0m\u001b[0mlst\u001b[0m\u001b[1;33m)\u001b[0m\u001b[1;33m\u001b[0m\u001b[0m\n\u001b[0m\u001b[0;32m      6\u001b[0m     \u001b[1;32mreturn\u001b[0m \u001b[0mtest_compare_to_sorted\u001b[0m\u001b[1;33m\u001b[0m\u001b[0m\n",
      "\u001b[1;32m/home/simon/.venvs/hypothesis34/lib/python3.4/site-packages/hypothesis/core.py\u001b[0m in \u001b[0;36mwrapped_test\u001b[1;34m(*arguments, **kwargs)\u001b[0m\n\u001b[0;32m    575\u001b[0m                 test_runner(reify_and_execute(\n\u001b[0;32m    576\u001b[0m                     \u001b[0msearch_strategy\u001b[0m\u001b[1;33m,\u001b[0m \u001b[0mfalsifying_template\u001b[0m\u001b[1;33m,\u001b[0m \u001b[0mtest\u001b[0m\u001b[1;33m,\u001b[0m\u001b[1;33m\u001b[0m\u001b[0m\n\u001b[1;32m--> 577\u001b[1;33m                     \u001b[0mprint_example\u001b[0m\u001b[1;33m=\u001b[0m\u001b[1;32mTrue\u001b[0m\u001b[1;33m\u001b[0m\u001b[0m\n\u001b[0m\u001b[0;32m    578\u001b[0m                 ))\n\u001b[0;32m    579\u001b[0m \u001b[1;33m\u001b[0m\u001b[0m\n",
      "\u001b[1;32m/home/simon/.venvs/hypothesis34/lib/python3.4/site-packages/hypothesis/executors/executors.py\u001b[0m in \u001b[0;36mdefault_executor\u001b[1;34m(function)\u001b[0m\n\u001b[0;32m     23\u001b[0m \u001b[1;33m\u001b[0m\u001b[0m\n\u001b[0;32m     24\u001b[0m \u001b[1;32mdef\u001b[0m \u001b[0mdefault_executor\u001b[0m\u001b[1;33m(\u001b[0m\u001b[0mfunction\u001b[0m\u001b[1;33m)\u001b[0m\u001b[1;33m:\u001b[0m\u001b[1;33m\u001b[0m\u001b[0m\n\u001b[1;32m---> 25\u001b[1;33m     \u001b[1;32mreturn\u001b[0m \u001b[0mfunction\u001b[0m\u001b[1;33m(\u001b[0m\u001b[1;33m)\u001b[0m\u001b[1;33m\u001b[0m\u001b[0m\n\u001b[0m\u001b[0;32m     26\u001b[0m \u001b[1;33m\u001b[0m\u001b[0m\n\u001b[0;32m     27\u001b[0m \u001b[1;33m\u001b[0m\u001b[0m\n",
      "\u001b[1;32m/home/simon/.venvs/hypothesis34/lib/python3.4/site-packages/hypothesis/core.py\u001b[0m in \u001b[0;36mrun\u001b[1;34m()\u001b[0m\n\u001b[0;32m    367\u001b[0m             \u001b[1;32mif\u001b[0m \u001b[0mrecord_repr\u001b[0m \u001b[1;32mis\u001b[0m \u001b[1;32mnot\u001b[0m \u001b[1;32mNone\u001b[0m\u001b[1;33m:\u001b[0m\u001b[1;33m\u001b[0m\u001b[0m\n\u001b[0;32m    368\u001b[0m                 \u001b[0mrecord_repr\u001b[0m\u001b[1;33m[\u001b[0m\u001b[1;36m0\u001b[0m\u001b[1;33m]\u001b[0m \u001b[1;33m=\u001b[0m \u001b[0mtext_version\u001b[0m\u001b[1;33m\u001b[0m\u001b[0m\n\u001b[1;32m--> 369\u001b[1;33m             \u001b[1;32mreturn\u001b[0m \u001b[0mtest\u001b[0m\u001b[1;33m(\u001b[0m\u001b[1;33m*\u001b[0m\u001b[0margs\u001b[0m\u001b[1;33m,\u001b[0m \u001b[1;33m**\u001b[0m\u001b[0mkwargs\u001b[0m\u001b[1;33m)\u001b[0m\u001b[1;33m\u001b[0m\u001b[0m\n\u001b[0m\u001b[0;32m    370\u001b[0m     \u001b[1;32mreturn\u001b[0m \u001b[0mrun\u001b[0m\u001b[1;33m\u001b[0m\u001b[0m\n\u001b[0;32m    371\u001b[0m \u001b[1;33m\u001b[0m\u001b[0m\n",
      "\u001b[1;32m<ipython-input-162-27823379da15>\u001b[0m in \u001b[0;36mtest_compare_to_sorted\u001b[1;34m(lst)\u001b[0m\n\u001b[0;32m      1\u001b[0m \u001b[1;33m@\u001b[0m\u001b[0mgiven\u001b[0m\u001b[1;33m(\u001b[0m\u001b[0mst\u001b[0m\u001b[1;33m.\u001b[0m\u001b[0mlists\u001b[0m\u001b[1;33m(\u001b[0m\u001b[0mst\u001b[0m\u001b[1;33m.\u001b[0m\u001b[0mintegers\u001b[0m\u001b[1;33m(\u001b[0m\u001b[1;33m)\u001b[0m\u001b[1;33m)\u001b[0m\u001b[1;33m)\u001b[0m\u001b[1;33m\u001b[0m\u001b[0m\n\u001b[0;32m      2\u001b[0m \u001b[1;32mdef\u001b[0m \u001b[0mtest_compare_to_sorted\u001b[0m\u001b[1;33m(\u001b[0m\u001b[0mlst\u001b[0m\u001b[1;33m)\u001b[0m\u001b[1;33m:\u001b[0m\u001b[1;33m\u001b[0m\u001b[0m\n\u001b[1;32m----> 3\u001b[1;33m     \u001b[1;32massert\u001b[0m \u001b[0mquicksort\u001b[0m\u001b[1;33m(\u001b[0m\u001b[0mlst\u001b[0m\u001b[1;33m)\u001b[0m \u001b[1;33m==\u001b[0m \u001b[0msorted\u001b[0m\u001b[1;33m(\u001b[0m\u001b[0mlst\u001b[0m\u001b[1;33m)\u001b[0m\u001b[1;33m\u001b[0m\u001b[0m\n\u001b[0m\u001b[0;32m      4\u001b[0m \u001b[1;33m\u001b[0m\u001b[0m\n\u001b[0;32m      5\u001b[0m \u001b[0mtest_compare_to_sorted\u001b[0m\u001b[1;33m(\u001b[0m\u001b[1;33m)\u001b[0m\u001b[1;33m\u001b[0m\u001b[0m\n",
      "\u001b[1;31mAssertionError\u001b[0m: "
     ]
    }
   ],
   "source": [
    "@given(st.lists(st.integers()))\n",
    "def test_compare_to_sorted(lst):\n",
    "    assert quicksort(lst) == sorted(lst)\n",
    "    \n",
    "test_compare_to_sorted()\n"
   ]
  },
  {
   "cell_type": "code",
   "execution_count": 163,
   "metadata": {
    "collapsed": false
   },
   "outputs": [
    {
     "name": "stdout",
     "output_type": "stream",
     "text": [
      "Help on module pytest:\n",
      "\n",
      "NAME\n",
      "    pytest - pytest: unit and functional testing with Python.\n",
      "\n",
      "SUBMODULES\n",
      "    collect\n",
      "\n",
      "CLASSES\n",
      "    builtins.Exception(builtins.BaseException)\n",
      "        _pytest.config.UsageError\n",
      "    builtins.object\n",
      "        _pytest.config.cmdline\n",
      "    \n",
      "    class UsageError(builtins.Exception)\n",
      "     |  error in pytest usage or invocation\n",
      "     |  \n",
      "     |  Method resolution order:\n",
      "     |      UsageError\n",
      "     |      builtins.Exception\n",
      "     |      builtins.BaseException\n",
      "     |      builtins.object\n",
      "     |  \n",
      "     |  Data descriptors defined here:\n",
      "     |  \n",
      "     |  __weakref__\n",
      "     |      list of weak references to the object (if defined)\n",
      "     |  \n",
      "     |  ----------------------------------------------------------------------\n",
      "     |  Methods inherited from builtins.Exception:\n",
      "     |  \n",
      "     |  __init__(self, /, *args, **kwargs)\n",
      "     |      Initialize self.  See help(type(self)) for accurate signature.\n",
      "     |  \n",
      "     |  __new__(*args, **kwargs) from builtins.type\n",
      "     |      Create and return a new object.  See help(type) for accurate signature.\n",
      "     |  \n",
      "     |  ----------------------------------------------------------------------\n",
      "     |  Methods inherited from builtins.BaseException:\n",
      "     |  \n",
      "     |  __delattr__(self, name, /)\n",
      "     |      Implement delattr(self, name).\n",
      "     |  \n",
      "     |  __getattribute__(self, name, /)\n",
      "     |      Return getattr(self, name).\n",
      "     |  \n",
      "     |  __reduce__(...)\n",
      "     |  \n",
      "     |  __repr__(self, /)\n",
      "     |      Return repr(self).\n",
      "     |  \n",
      "     |  __setattr__(self, name, value, /)\n",
      "     |      Implement setattr(self, name, value).\n",
      "     |  \n",
      "     |  __setstate__(...)\n",
      "     |  \n",
      "     |  __str__(self, /)\n",
      "     |      Return str(self).\n",
      "     |  \n",
      "     |  with_traceback(...)\n",
      "     |      Exception.with_traceback(tb) --\n",
      "     |      set self.__traceback__ to tb and return self.\n",
      "     |  \n",
      "     |  ----------------------------------------------------------------------\n",
      "     |  Data descriptors inherited from builtins.BaseException:\n",
      "     |  \n",
      "     |  __cause__\n",
      "     |      exception cause\n",
      "     |  \n",
      "     |  __context__\n",
      "     |      exception context\n",
      "     |  \n",
      "     |  __dict__\n",
      "     |  \n",
      "     |  __suppress_context__\n",
      "     |  \n",
      "     |  __traceback__\n",
      "     |  \n",
      "     |  args\n",
      "    \n",
      "    class cmdline(builtins.object)\n",
      "     |  Static methods defined here:\n",
      "     |  \n",
      "     |  main(args=None, plugins=None)\n",
      "     |      return exit code, after performing an in-process test run.\n",
      "     |      \n",
      "     |      :arg args: list of command line arguments.\n",
      "     |      \n",
      "     |      :arg plugins: list of plugin objects to be auto-registered during\n",
      "     |                    initialization.\n",
      "     |  \n",
      "     |  ----------------------------------------------------------------------\n",
      "     |  Data descriptors defined here:\n",
      "     |  \n",
      "     |  __dict__\n",
      "     |      dictionary for instance variables (if defined)\n",
      "     |  \n",
      "     |  __weakref__\n",
      "     |      list of weak references to the object (if defined)\n",
      "\n",
      "FUNCTIONS\n",
      "    deprecated_call(func, *args, **kwargs)\n",
      "        Assert that ``func(*args, **kwargs)`` triggers a DeprecationWarning.\n",
      "    \n",
      "    exit(msg)\n",
      "        exit testing process as if KeyboardInterrupt was triggered.\n",
      "    \n",
      "    fail(msg='', pytrace=True)\n",
      "        explicitely fail an currently-executing test with the given Message.\n",
      "        \n",
      "        :arg pytrace: if false the msg represents the full failure information\n",
      "                      and no python traceback will be reported.\n",
      "    \n",
      "    fixture(scope='function', params=None, autouse=False, ids=None)\n",
      "        (return a) decorator to mark a fixture factory function.\n",
      "        \n",
      "        This decorator can be used (with or or without parameters) to define\n",
      "        a fixture function.  The name of the fixture function can later be\n",
      "        referenced to cause its invocation ahead of running tests: test\n",
      "        modules or classes can use the pytest.mark.usefixtures(fixturename)\n",
      "        marker.  Test functions can directly use fixture names as input\n",
      "        arguments in which case the fixture instance returned from the fixture\n",
      "        function will be injected.\n",
      "        \n",
      "        :arg scope: the scope for which this fixture is shared, one of\n",
      "                    \"function\" (default), \"class\", \"module\", \"session\".\n",
      "        \n",
      "        :arg params: an optional list of parameters which will cause multiple\n",
      "                    invocations of the fixture function and all of the tests\n",
      "                    using it.\n",
      "        \n",
      "        :arg autouse: if True, the fixture func is activated for all tests that\n",
      "                    can see it.  If False (the default) then an explicit\n",
      "                    reference is needed to activate the fixture.\n",
      "        \n",
      "        :arg ids: list of string ids each corresponding to the params\n",
      "           so that they are part of the test id. If no ids are provided\n",
      "           they will be generated automatically from the params.\n",
      "    \n",
      "    freeze_includes()\n",
      "        Returns a list of module names used by py.test that should be\n",
      "        included by cx_freeze.\n",
      "    \n",
      "    importorskip(modname, minversion=None)\n",
      "        return imported module if it has at least \"minversion\" as its\n",
      "        __version__ attribute.  If no minversion is specified the a skip\n",
      "        is only triggered if the module can not be imported.\n",
      "    \n",
      "    main(args=None, plugins=None)\n",
      "        return exit code, after performing an in-process test run.\n",
      "        \n",
      "        :arg args: list of command line arguments.\n",
      "        \n",
      "        :arg plugins: list of plugin objects to be auto-registered during\n",
      "                      initialization.\n",
      "    \n",
      "    raises(expected_exception, *args, **kwargs)\n",
      "        assert that a code block/function call raises @expected_exception\n",
      "        and raise a failure exception otherwise.\n",
      "        \n",
      "        This helper produces a ``py.code.ExceptionInfo()`` object.\n",
      "        \n",
      "        If using Python 2.5 or above, you may use this function as a\n",
      "        context manager::\n",
      "        \n",
      "            >>> with raises(ZeroDivisionError):\n",
      "            ...    1/0\n",
      "        \n",
      "        Or you can specify a callable by passing a to-be-called lambda::\n",
      "        \n",
      "            >>> raises(ZeroDivisionError, lambda: 1/0)\n",
      "            <ExceptionInfo ...>\n",
      "        \n",
      "        or you can specify an arbitrary callable with arguments::\n",
      "        \n",
      "            >>> def f(x): return 1/x\n",
      "            ...\n",
      "            >>> raises(ZeroDivisionError, f, 0)\n",
      "            <ExceptionInfo ...>\n",
      "            >>> raises(ZeroDivisionError, f, x=0)\n",
      "            <ExceptionInfo ...>\n",
      "        \n",
      "        A third possibility is to use a string to be executed::\n",
      "        \n",
      "            >>> raises(ZeroDivisionError, \"f(0)\")\n",
      "            <ExceptionInfo ...>\n",
      "        \n",
      "        .. note::\n",
      "        \n",
      "           When using ``pytest.raises`` as a context manager, it's worthwhile to\n",
      "           note that normal context manager rules apply and that the exception\n",
      "           raised *must* be the final line in the scope of the context manager.\n",
      "           Lines of code after that, within the scope of the context manager will\n",
      "           not be executed. For example::\n",
      "        \n",
      "               >>> with raises(OSError) as err:\n",
      "                       assert 1 == 1  # this will execute as expected\n",
      "                       raise OSError(errno.EEXISTS, 'directory exists')\n",
      "                       assert err.errno = errno.EEXISTS  # this will not execute\n",
      "        \n",
      "           Instead, the following approach must be taken (note the difference in\n",
      "           scope)::\n",
      "        \n",
      "               >>> with raises(OSError) as err:\n",
      "                       assert 1 == 1  # this will execute as expected\n",
      "                       raise OSError(errno.EEXISTS, 'directory exists')\n",
      "        \n",
      "                   assert err.errno = errno.EEXISTS  # this will now execute\n",
      "        \n",
      "        Performance note:\n",
      "        -----------------\n",
      "        \n",
      "        Similar to caught exception objects in Python, explicitly clearing\n",
      "        local references to returned ``py.code.ExceptionInfo`` objects can\n",
      "        help the Python interpreter speed up its garbage collection.\n",
      "        \n",
      "        Clearing those references breaks a reference cycle\n",
      "        (``ExceptionInfo`` --> caught exception --> frame stack raising\n",
      "        the exception --> current frame stack --> local variables -->\n",
      "        ``ExceptionInfo``) which makes Python keep all objects referenced\n",
      "        from that cycle (including all local variables in the current\n",
      "        frame) alive until the next cyclic garbage collection run. See the\n",
      "        official Python ``try`` statement documentation for more detailed\n",
      "        information.\n",
      "    \n",
      "    set_trace() method of _pytest.pdb.pytestPDB instance\n",
      "        invoke PDB set_trace debugging, dropping any IO capturing.\n",
      "    \n",
      "    skip(msg='')\n",
      "        skip an executing test with the given message.  Note: it's usually\n",
      "        better to use the pytest.mark.skipif marker to declare a test to be\n",
      "        skipped under certain conditions like mismatching platforms or\n",
      "        dependencies.  See the pytest_skipping plugin for details.\n",
      "    \n",
      "    warns(expected_warning, *args, **kwargs)\n",
      "        Assert that code raises a particular class of warning.\n",
      "        \n",
      "        Specifically, the input @expected_warning can be a warning class or\n",
      "        tuple of warning classes, and the code must return that warning\n",
      "        (if a single class) or one of those warnings (if a tuple).\n",
      "        \n",
      "        This helper produces a list of ``warnings.WarningMessage`` objects,\n",
      "        one for each warning raised.\n",
      "        \n",
      "        This function can be used as a context manager, or any of the other ways\n",
      "        ``pytest.raises`` can be used::\n",
      "        \n",
      "            >>> with warns(RuntimeWarning):\n",
      "            ...    warnings.warn(\"my warning\", RuntimeWarning)\n",
      "    \n",
      "    xfail(reason='')\n",
      "        xfail an executing test or setup functions with the given reason.\n",
      "    \n",
      "    yield_fixture(scope='function', params=None, autouse=False, ids=None)\n",
      "        (return a) decorator to mark a yield-fixture factory function\n",
      "        (EXPERIMENTAL).\n",
      "        \n",
      "        This takes the same arguments as :py:func:`pytest.fixture` but\n",
      "        expects a fixture function to use a ``yield`` instead of a ``return``\n",
      "        statement to provide a fixture.  See\n",
      "        http://pytest.org/en/latest/yieldfixture.html for more info.\n",
      "\n",
      "DATA\n",
      "    __all__ = ['main', 'UsageError', 'cmdline', 'hookspec', 'hookimpl', '_...\n",
      "    hookimpl = <_pytest.vendored_packages.pluggy.HookimplMarker object>\n",
      "    hookspec = <_pytest.vendored_packages.pluggy.HookspecMarker object>\n",
      "    mark = <_pytest.mark.MarkGenerator object>\n",
      "\n",
      "VERSION\n",
      "    2.8.2\n",
      "\n",
      "FILE\n",
      "    /home/simon/.venvs/hypothesis34/lib/python3.4/site-packages/pytest.py\n",
      "\n",
      "\n"
     ]
    }
   ],
   "source": [
    "import pytest\n",
    "\n",
    "help(pytest)"
   ]
  },
  {
   "cell_type": "markdown",
   "metadata": {},
   "source": [
    "## Strategies"
   ]
  },
  {
   "cell_type": "code",
   "execution_count": 8,
   "metadata": {
    "collapsed": false
   },
   "outputs": [
    {
     "name": "stdout",
     "output_type": "stream",
     "text": [
      "Help on function integers in module hypothesis.strategies:\n",
      "\n",
      "integers(min_value=None, max_value=None)\n",
      "    Returns a strategy which generates integers (in Python 2 these may be\n",
      "    ints or longs).\n",
      "    \n",
      "    If min_value is not None then all values will be >=\n",
      "    min_value. If max_value is not None then all values will be <= max_value\n",
      "\n"
     ]
    }
   ],
   "source": [
    "help(st.integers)"
   ]
  },
  {
   "cell_type": "code",
   "execution_count": 33,
   "metadata": {
    "collapsed": false
   },
   "outputs": [
    {
     "data": {
      "text/plain": [
       "-16"
      ]
     },
     "execution_count": 33,
     "metadata": {},
     "output_type": "execute_result"
    }
   ],
   "source": [
    "st.integers().map(lambda n: 2 * n).example()"
   ]
  },
  {
   "cell_type": "code",
   "execution_count": 170,
   "metadata": {
    "collapsed": false
   },
   "outputs": [
    {
     "data": {
      "text/plain": [
       "3.404632732869028e-45"
      ]
     },
     "execution_count": 170,
     "metadata": {},
     "output_type": "execute_result"
    }
   ],
   "source": [
    "st.one_of(st.integers(), st.floats()).example()"
   ]
  },
  {
   "cell_type": "code",
   "execution_count": 132,
   "metadata": {
    "collapsed": false
   },
   "outputs": [
    {
     "name": "stdout",
     "output_type": "stream",
     "text": [
      "Help on function lists in module hypothesis.strategies:\n",
      "\n",
      "lists(elements=None, min_size=None, average_size=None, max_size=None, unique_by=None)\n",
      "    Returns a list containining values drawn from elements length in the\n",
      "    interval [min_size, max_size] (no bounds in that direction if these are\n",
      "    None). If max_size is 0 then elements may be None and only the empty list\n",
      "    will be drawn.\n",
      "    \n",
      "    average_size may be used as a size hint to roughly control the size\n",
      "    of list but it may not be the actual average of sizes you get, due\n",
      "    to a variety of factors.\n",
      "    \n",
      "    if unique_by is not None it must be a function returning a hashable type\n",
      "    when given a value drawn from elements. The resulting list will satisfy the\n",
      "    condition that for i != j, unique_by(result[i]) != unique_by(result[j]).\n",
      "\n"
     ]
    }
   ],
   "source": [
    "help(st.lists)"
   ]
  },
  {
   "cell_type": "code",
   "execution_count": 133,
   "metadata": {
    "collapsed": false
   },
   "outputs": [
    {
     "name": "stdout",
     "output_type": "stream",
     "text": [
      "Help on function recursive in module hypothesis.strategies:\n",
      "\n",
      "recursive(base, extend, max_leaves=100)\n",
      "    base: A strategy to start from\n",
      "    extend: A function which takes a strategy and returns a new strategy\n",
      "    max_leaves: The maximum number of elements to be drawn from base on a given\n",
      "    run.\n",
      "    \n",
      "    This returns a strategy S such that S = extend(base | S). That is, values\n",
      "    maybe drawn from base, or from any strategy reachable by mixing\n",
      "    applications of | and extend.\n",
      "    \n",
      "    An example may clarify: recursive(booleans(), lists) would return a\n",
      "    strategy that may return arbitrarily nested and mixed lists of booleans.\n",
      "    So e.g. False, [True], [False, []], [[[[True]]]], are all valid values to\n",
      "    be drawn from that strategy.\n",
      "\n"
     ]
    }
   ],
   "source": [
    "help(st.recursive)"
   ]
  },
  {
   "cell_type": "code",
   "execution_count": null,
   "metadata": {
    "collapsed": true
   },
   "outputs": [],
   "source": []
  },
  {
   "cell_type": "markdown",
   "metadata": {},
   "source": [
    "## Eigene Datenstrukturen"
   ]
  },
  {
   "cell_type": "code",
   "execution_count": 201,
   "metadata": {
    "collapsed": false
   },
   "outputs": [],
   "source": [
    "from collections import namedtuple\n",
    "from math import sqrt\n",
    "\n",
    "from hypothesis import Settings, Verbosity\n",
    "\n",
    "Point = namedtuple(\"Point\", \"x, y\")\n",
    "\n",
    "def distance(p1, p2):\n",
    "    dx = (p1.x - p2.x) ** 2\n",
    "    dy = (p1.y - p2.y) ** 2\n",
    "    return sqrt(dx + dy)\n",
    "\n",
    "points = st.builds(Point, x=st.floats(), y=st.floats())"
   ]
  },
  {
   "cell_type": "code",
   "execution_count": 171,
   "metadata": {
    "collapsed": true
   },
   "outputs": [],
   "source": [
    "# Ein konventioneller Test für die Plausibilität\n",
    "def test_distance_from_0_0_to_0_1_is_1():\n",
    "    assert distance(Point(0,0), Point(0,1)) == 1\n",
    "\n",
    "test_distance_from_0_0_to_0_1_is_1()"
   ]
  },
  {
   "cell_type": "code",
   "execution_count": 202,
   "metadata": {
    "collapsed": false
   },
   "outputs": [
    {
     "name": "stdout",
     "output_type": "stream",
     "text": [
      "Falsifying example: test_distance_for_same_point_is_zero(point=Point(x=0.0, y=inf))\n"
     ]
    },
    {
     "ename": "AssertionError",
     "evalue": "",
     "output_type": "error",
     "traceback": [
      "\u001b[1;31m---------------------------------------------------------------------------\u001b[0m",
      "\u001b[1;31mAssertionError\u001b[0m                            Traceback (most recent call last)",
      "\u001b[1;32m<ipython-input-202-d6f08bcd74d8>\u001b[0m in \u001b[0;36m<module>\u001b[1;34m()\u001b[0m\n\u001b[0;32m      3\u001b[0m     \u001b[1;32massert\u001b[0m \u001b[0mdistance\u001b[0m\u001b[1;33m(\u001b[0m\u001b[0mpoint\u001b[0m\u001b[1;33m,\u001b[0m \u001b[0mpoint\u001b[0m\u001b[1;33m)\u001b[0m \u001b[1;33m==\u001b[0m \u001b[1;36m0\u001b[0m\u001b[1;33m\u001b[0m\u001b[0m\n\u001b[0;32m      4\u001b[0m \u001b[1;33m\u001b[0m\u001b[0m\n\u001b[1;32m----> 5\u001b[1;33m \u001b[0mtest_distance_for_same_point_is_zero\u001b[0m\u001b[1;33m(\u001b[0m\u001b[1;33m)\u001b[0m\u001b[1;33m\u001b[0m\u001b[0m\n\u001b[0m",
      "\u001b[1;32m/home/simon/Dropbox/prog/python/lpug/hypothesis-talk/.hypothesis/eval_source/hypothesis_temporary_module_d4dcd43315605f8f3922cd96a30dbcc413b3c2cb.py\u001b[0m in \u001b[0;36mtest_distance_for_same_point_is_zero\u001b[1;34m(point)\u001b[0m\n\u001b[0;32m      3\u001b[0m \u001b[1;32mdef\u001b[0m \u001b[0maccept\u001b[0m\u001b[1;33m(\u001b[0m\u001b[0mf\u001b[0m\u001b[1;33m)\u001b[0m\u001b[1;33m:\u001b[0m\u001b[1;33m\u001b[0m\u001b[0m\n\u001b[0;32m      4\u001b[0m     \u001b[1;32mdef\u001b[0m \u001b[0mtest_distance_for_same_point_is_zero\u001b[0m\u001b[1;33m(\u001b[0m\u001b[0mpoint\u001b[0m\u001b[1;33m=\u001b[0m\u001b[0mnot_set\u001b[0m\u001b[1;33m)\u001b[0m\u001b[1;33m:\u001b[0m\u001b[1;33m\u001b[0m\u001b[0m\n\u001b[1;32m----> 5\u001b[1;33m         \u001b[1;32mreturn\u001b[0m \u001b[0mf\u001b[0m\u001b[1;33m(\u001b[0m\u001b[0mpoint\u001b[0m\u001b[1;33m)\u001b[0m\u001b[1;33m\u001b[0m\u001b[0m\n\u001b[0m\u001b[0;32m      6\u001b[0m     \u001b[1;32mreturn\u001b[0m \u001b[0mtest_distance_for_same_point_is_zero\u001b[0m\u001b[1;33m\u001b[0m\u001b[0m\n",
      "\u001b[1;32m/home/simon/.venvs/hypothesis34/lib/python3.4/site-packages/hypothesis/core.py\u001b[0m in \u001b[0;36mwrapped_test\u001b[1;34m(*arguments, **kwargs)\u001b[0m\n\u001b[0;32m    575\u001b[0m                 test_runner(reify_and_execute(\n\u001b[0;32m    576\u001b[0m                     \u001b[0msearch_strategy\u001b[0m\u001b[1;33m,\u001b[0m \u001b[0mfalsifying_template\u001b[0m\u001b[1;33m,\u001b[0m \u001b[0mtest\u001b[0m\u001b[1;33m,\u001b[0m\u001b[1;33m\u001b[0m\u001b[0m\n\u001b[1;32m--> 577\u001b[1;33m                     \u001b[0mprint_example\u001b[0m\u001b[1;33m=\u001b[0m\u001b[1;32mTrue\u001b[0m\u001b[1;33m\u001b[0m\u001b[0m\n\u001b[0m\u001b[0;32m    578\u001b[0m                 ))\n\u001b[0;32m    579\u001b[0m \u001b[1;33m\u001b[0m\u001b[0m\n",
      "\u001b[1;32m/home/simon/.venvs/hypothesis34/lib/python3.4/site-packages/hypothesis/executors/executors.py\u001b[0m in \u001b[0;36mdefault_executor\u001b[1;34m(function)\u001b[0m\n\u001b[0;32m     23\u001b[0m \u001b[1;33m\u001b[0m\u001b[0m\n\u001b[0;32m     24\u001b[0m \u001b[1;32mdef\u001b[0m \u001b[0mdefault_executor\u001b[0m\u001b[1;33m(\u001b[0m\u001b[0mfunction\u001b[0m\u001b[1;33m)\u001b[0m\u001b[1;33m:\u001b[0m\u001b[1;33m\u001b[0m\u001b[0m\n\u001b[1;32m---> 25\u001b[1;33m     \u001b[1;32mreturn\u001b[0m \u001b[0mfunction\u001b[0m\u001b[1;33m(\u001b[0m\u001b[1;33m)\u001b[0m\u001b[1;33m\u001b[0m\u001b[0m\n\u001b[0m\u001b[0;32m     26\u001b[0m \u001b[1;33m\u001b[0m\u001b[0m\n\u001b[0;32m     27\u001b[0m \u001b[1;33m\u001b[0m\u001b[0m\n",
      "\u001b[1;32m/home/simon/.venvs/hypothesis34/lib/python3.4/site-packages/hypothesis/core.py\u001b[0m in \u001b[0;36mrun\u001b[1;34m()\u001b[0m\n\u001b[0;32m    367\u001b[0m             \u001b[1;32mif\u001b[0m \u001b[0mrecord_repr\u001b[0m \u001b[1;32mis\u001b[0m \u001b[1;32mnot\u001b[0m \u001b[1;32mNone\u001b[0m\u001b[1;33m:\u001b[0m\u001b[1;33m\u001b[0m\u001b[0m\n\u001b[0;32m    368\u001b[0m                 \u001b[0mrecord_repr\u001b[0m\u001b[1;33m[\u001b[0m\u001b[1;36m0\u001b[0m\u001b[1;33m]\u001b[0m \u001b[1;33m=\u001b[0m \u001b[0mtext_version\u001b[0m\u001b[1;33m\u001b[0m\u001b[0m\n\u001b[1;32m--> 369\u001b[1;33m             \u001b[1;32mreturn\u001b[0m \u001b[0mtest\u001b[0m\u001b[1;33m(\u001b[0m\u001b[1;33m*\u001b[0m\u001b[0margs\u001b[0m\u001b[1;33m,\u001b[0m \u001b[1;33m**\u001b[0m\u001b[0mkwargs\u001b[0m\u001b[1;33m)\u001b[0m\u001b[1;33m\u001b[0m\u001b[0m\n\u001b[0m\u001b[0;32m    370\u001b[0m     \u001b[1;32mreturn\u001b[0m \u001b[0mrun\u001b[0m\u001b[1;33m\u001b[0m\u001b[0m\n\u001b[0;32m    371\u001b[0m \u001b[1;33m\u001b[0m\u001b[0m\n",
      "\u001b[1;32m<ipython-input-202-d6f08bcd74d8>\u001b[0m in \u001b[0;36mtest_distance_for_same_point_is_zero\u001b[1;34m(point)\u001b[0m\n\u001b[0;32m      1\u001b[0m \u001b[1;33m@\u001b[0m\u001b[0mgiven\u001b[0m\u001b[1;33m(\u001b[0m\u001b[0mpoints\u001b[0m\u001b[1;33m)\u001b[0m\u001b[1;33m\u001b[0m\u001b[0m\n\u001b[0;32m      2\u001b[0m \u001b[1;32mdef\u001b[0m \u001b[0mtest_distance_for_same_point_is_zero\u001b[0m\u001b[1;33m(\u001b[0m\u001b[0mpoint\u001b[0m\u001b[1;33m)\u001b[0m\u001b[1;33m:\u001b[0m\u001b[1;33m\u001b[0m\u001b[0m\n\u001b[1;32m----> 3\u001b[1;33m     \u001b[1;32massert\u001b[0m \u001b[0mdistance\u001b[0m\u001b[1;33m(\u001b[0m\u001b[0mpoint\u001b[0m\u001b[1;33m,\u001b[0m \u001b[0mpoint\u001b[0m\u001b[1;33m)\u001b[0m \u001b[1;33m==\u001b[0m \u001b[1;36m0\u001b[0m\u001b[1;33m\u001b[0m\u001b[0m\n\u001b[0m\u001b[0;32m      4\u001b[0m \u001b[1;33m\u001b[0m\u001b[0m\n\u001b[0;32m      5\u001b[0m \u001b[0mtest_distance_for_same_point_is_zero\u001b[0m\u001b[1;33m(\u001b[0m\u001b[1;33m)\u001b[0m\u001b[1;33m\u001b[0m\u001b[0m\n",
      "\u001b[1;31mAssertionError\u001b[0m: "
     ]
    }
   ],
   "source": [
    "@given(points)\n",
    "def test_distance_for_same_point_is_zero(point):\n",
    "    assert distance(point, point) == 0\n",
    "    \n",
    "test_distance_for_same_point_is_zero()"
   ]
  },
  {
   "cell_type": "code",
   "execution_count": 173,
   "metadata": {
    "collapsed": true
   },
   "outputs": [],
   "source": [
    "@given(points, points)\n",
    "def test_distance_is_always_non_negative(p1, p2):\n",
    "    assert distance(p1, p2) >= 0\n",
    "    \n",
    "test_distance_is_always_non_negative()"
   ]
  },
  {
   "cell_type": "code",
   "execution_count": 174,
   "metadata": {
    "collapsed": true
   },
   "outputs": [],
   "source": [
    "@given(points, points)\n",
    "def test_distance_is_commutative(p1, p2):\n",
    "    assert distance(p1, p2) == distance(p2, p1)\n",
    "    \n",
    "test_distance_is_commutative()"
   ]
  },
  {
   "cell_type": "code",
   "execution_count": null,
   "metadata": {
    "collapsed": true
   },
   "outputs": [],
   "source": [
    "#@given(points, points, settings=Settings(verbosity=Verbosity.verbose))"
   ]
  },
  {
   "cell_type": "code",
   "execution_count": 175,
   "metadata": {
    "collapsed": false
   },
   "outputs": [
    {
     "name": "stdout",
     "output_type": "stream",
     "text": [
      "Help on function streaming in module hypothesis.strategies:\n",
      "\n",
      "streaming(elements)\n",
      "    Generates an infinite stream of values where each value is drawn from\n",
      "    elements.\n",
      "    \n",
      "    The result is iterable (the iterator will never terminate) and\n",
      "    indexable.\n",
      "\n"
     ]
    }
   ],
   "source": [
    "help(st.streaming)"
   ]
  },
  {
   "cell_type": "code",
   "execution_count": 190,
   "metadata": {
    "collapsed": true
   },
   "outputs": [],
   "source": [
    "from math import pi\n",
    "\n",
    "def hyperbel(n):\n",
    "    return 1 / (n + pi)"
   ]
  },
  {
   "cell_type": "code",
   "execution_count": 193,
   "metadata": {
    "collapsed": false
   },
   "outputs": [],
   "source": [
    "@given(st.floats())\n",
    "def test_hyperbel(n):\n",
    "    assert isinstance(hyperbel(n), object)\n",
    "    \n",
    "test_hyperbel()"
   ]
  },
  {
   "cell_type": "code",
   "execution_count": 194,
   "metadata": {
    "collapsed": false
   },
   "outputs": [
    {
     "data": {
      "text/plain": [
       "True"
      ]
     },
     "execution_count": 194,
     "metadata": {},
     "output_type": "execute_result"
    }
   ],
   "source": [
    "pi + (-pi) == 0"
   ]
  },
  {
   "cell_type": "markdown",
   "metadata": {},
   "source": [
    "## Vorteile von Property-based Testing"
   ]
  },
  {
   "cell_type": "markdown",
   "metadata": {},
   "source": [
    "* Kann Sonderfälle finden, auf die man selbst nicht so schnell gekommen wäre\n",
    "* Viele Testcases mit wenig Code\n",
    "* Regt an, über Spezifikationen nachzudenken"
   ]
  },
  {
   "cell_type": "markdown",
   "metadata": {},
   "source": [
    "## Nachteile von Property-based Testing"
   ]
  },
  {
   "cell_type": "markdown",
   "metadata": {},
   "source": [
    "* Geeignete Properties sind nicht immer leicht zu finden\n",
    "* Testdurchläufe können lange dauern\n",
    "* Tests können kompliziert werden, gar selbst testbedürftig werden"
   ]
  },
  {
   "cell_type": "code",
   "execution_count": 206,
   "metadata": {
    "collapsed": false
   },
   "outputs": [
    {
     "name": "stdout",
     "output_type": "stream",
     "text": [
      "['k\\U000a0509¹¹ꃥ¹\\U000a0509\\x8bꃥ\\x8bk\\U000a050922>>¹>k',\n",
      " '\\U000484ae\\x11\\n'\n",
      " '\\x82\\U000484ae\\x82\\x11\\x82\\n'\n",
      " '\\t\\x82\\x82\\x06\\n'\n",
      " '\\x1e'\n",
      " '\\U000484ae\\x11\\n'\n",
      " '\\x1e'\n",
      " '\\U000484ae\\x1e'\n",
      " '\\x06\\x11\\x1e'\n",
      " '\\x11\\x06\\x1e',\n",
      " '\\n-\\x91ě\\x91ěěě¸',\n",
      " '\\x7f?Şl\\x7fŦćŞćŶ\\x7f',\n",
      " '\\x8f\\x8f\\x8f\\x8f\\x8f',\n",
      " '\\x91\\x91\\x07\\x91\\x91\\x07\\x07\\x07\\x91\\x07\\x07\\x07\\x07\\x07\\x07\\x91\\x07\\x91\\x07\\x91\\x07\\x07\\x07\\x91\\x07\\x91\\x91\\x91\\x07\\x07\\x91\\x07\\x07',\n",
      " 'BĂ',\n",
      " 'ęę\\t',\n",
      " '\\x8d\\x00',\n",
      " '\\x05\\x05\\x05\\x05\\x05\\x05\\x05\\x05\\x05\\x05\\x05\\x05\\x05\\x05\\x05\\x05',\n",
      " 'k\\x9a5ŇȌȌȌõkõkŇȌŇȌ5k5\\x9a\\x0b'\n",
      " ' ŇõŇȌ5k\\x0b'\n",
      " '\\x0b'\n",
      " 'k\\x9a555õ\\x9aŇ\\x9aõkkŇ 5k5õ\\x0b'\n",
      " '5Ȍ\\x9a\\x0b'\n",
      " ' õ\\x9a5',\n",
      " 'DĭLL¾L\\x02\\x8e\\x11pĭ\\x11D0p\\x01j\\x02\\x8ej¾\\x01Lĭ¾\\x8e',\n",
      " ':\\\\',\n",
      " '\\x1c'\n",
      " '\\x1f_\\U000ee21a\\u2002\\x10_L\\x1f\\x16\\U000ae9dd\\x1f\\U000ee21a\\U000ee21a\\u2006',\n",
      " 'Ķ\\x82ȠȠN\\x02_&×\\x8aF&YMT\\x82]\\x02YNTȠ\\x82',\n",
      " '\\x04\\x86\\x86\\x04¥\\x8d\\x8d\\x8d\\x04\\x04T\\x8d¥T¥¥M\\x8d\\x86\\x86¥\\x86\\x04',\n",
      " '2@@¬J@JħJ\\x0bJ))¬J\\x84\\x84ħ\\x84ħ',\n",
      " '{\\x0fi\\U000a4f6d{¥\\x1a\\x03\\U00037b09\\x88g\\U00037b09\\U000669d0\\x1a',\n",
      " '\\U00031178\\x90',\n",
      " 'v']\n"
     ]
    }
   ],
   "source": [
    "from pprint import pprint\n",
    "\n",
    "strat = st.text()\n",
    "pprint([strat.example() for _ in range(20)])"
   ]
  },
  {
   "cell_type": "markdown",
   "metadata": {},
   "source": [
    "## Weiterführendes"
   ]
  },
  {
   "cell_type": "markdown",
   "metadata": {},
   "source": [
    "Apis testen:\n",
    "    \n",
    "* http://wildfish.com/blog/2015/10/01/using-gabbi-and-hypothesis-test-django-apis/\n",
    "* http://hypothesis.readthedocs.org/en/latest/examples.html#fuzzing-an-http-api"
   ]
  },
  {
   "cell_type": "markdown",
   "metadata": {},
   "source": [
    "Eine Testsuite vom Hypothesis-Autor selbst:\n",
    "\n",
    "https://github.com/DRMacIver/intset/blob/master/tests/test_intset.py"
   ]
  },
  {
   "cell_type": "code",
   "execution_count": null,
   "metadata": {
    "collapsed": true
   },
   "outputs": [],
   "source": [
    "version_number = st.builds(lambda a, b, c: \"{}.{}.{}\", st.integers.)"
   ]
  },
  {
   "cell_type": "code",
   "execution_count": 207,
   "metadata": {
    "collapsed": false
   },
   "outputs": [
    {
     "name": "stdout",
     "output_type": "stream",
     "text": [
      "True\n"
     ]
    }
   ],
   "source": [
    "print(bool(str(False)))"
   ]
  },
  {
   "cell_type": "code",
   "execution_count": 217,
   "metadata": {
    "collapsed": false
   },
   "outputs": [
    {
     "data": {
      "text/plain": [
       "True"
      ]
     },
     "execution_count": 217,
     "metadata": {},
     "output_type": "execute_result"
    }
   ],
   "source": [
    "import json\n",
    "\n",
    "bool(json.loads(\"1\"))"
   ]
  },
  {
   "cell_type": "code",
   "execution_count": null,
   "metadata": {
    "collapsed": true
   },
   "outputs": [],
   "source": [
    "st.floats(min_value=1, max_value=3).filter(lambda x: x != 3)"
   ]
  },
  {
   "cell_type": "code",
   "execution_count": 220,
   "metadata": {
    "collapsed": false
   },
   "outputs": [
    {
     "name": "stdout",
     "output_type": "stream",
     "text": [
      "Help on method flatmap in module hypothesis.searchstrategy.strategies:\n",
      "\n",
      "flatmap(expand) method of hypothesis.searchstrategy.reprwrapper.ReprWrapperStrategy instance\n",
      "    Returns a new strategy that generates values by generating a value\n",
      "    from this strategy, say x, then generating a value from\n",
      "    strategy(expand(x))\n",
      "    \n",
      "    This method is part of the public API.\n",
      "\n"
     ]
    }
   ],
   "source": [
    "help(st.floats().flatmap)d"
   ]
  },
  {
   "cell_type": "code",
   "execution_count": 247,
   "metadata": {
    "collapsed": false
   },
   "outputs": [
    {
     "data": {
      "text/plain": [
       "[[],\n",
       " [1, 1],\n",
       " [156],\n",
       " [],\n",
       " [7626991385634418447858669401108046134297458164580397149127436020566383995],\n",
       " [-40498937442166127291724863202403824045,\n",
       "  -40498748695777628408447093307083567649,\n",
       "  -40498850174745270443052997023427733557],\n",
       " [],\n",
       " [],\n",
       " [82650778004, 25472172698, 414623347],\n",
       " [32]]"
      ]
     },
     "execution_count": 247,
     "metadata": {},
     "output_type": "execute_result"
    }
   ],
   "source": [
    "[st.integers(min_value=0, max_value=4).flatmap(lambda x: st.lists(st.integers(), min_size=x, max_size=x)).example()  for _ in range(10)]"
   ]
  },
  {
   "cell_type": "code",
   "execution_count": 248,
   "metadata": {
    "collapsed": false
   },
   "outputs": [
    {
     "name": "stdout",
     "output_type": "stream",
     "text": [
      "Help on function lists in module hypothesis.strategies:\n",
      "\n",
      "lists(elements=None, min_size=None, average_size=None, max_size=None, unique_by=None)\n",
      "    Returns a list containining values drawn from elements length in the\n",
      "    interval [min_size, max_size] (no bounds in that direction if these are\n",
      "    None). If max_size is 0 then elements may be None and only the empty list\n",
      "    will be drawn.\n",
      "    \n",
      "    average_size may be used as a size hint to roughly control the size\n",
      "    of list but it may not be the actual average of sizes you get, due\n",
      "    to a variety of factors.\n",
      "    \n",
      "    if unique_by is not None it must be a function returning a hashable type\n",
      "    when given a value drawn from elements. The resulting list will satisfy the\n",
      "    condition that for i != j, unique_by(result[i]) != unique_by(result[j]).\n",
      "\n"
     ]
    }
   ],
   "source": [
    "help(st.lists)"
   ]
  },
  {
   "cell_type": "code",
   "execution_count": 250,
   "metadata": {
    "collapsed": true
   },
   "outputs": [],
   "source": [
    "my_strings = st.sampled_from(\"a b c d e f\".split())\n",
    "\n",
    "strings"
   ]
  },
  {
   "cell_type": "code",
   "execution_count": 256,
   "metadata": {
    "collapsed": false
   },
   "outputs": [
    {
     "data": {
      "text/plain": [
       "['e']"
      ]
     },
     "execution_count": 256,
     "metadata": {},
     "output_type": "execute_result"
    }
   ],
   "source": [
    "short_list_of_strings = st.lists(my_strings, max_size=5)\n",
    "\n",
    "short_list_of_strings.example()"
   ]
  },
  {
   "cell_type": "code",
   "execution_count": null,
   "metadata": {
    "collapsed": true
   },
   "outputs": [],
   "source": []
  },
  {
   "cell_type": "code",
   "execution_count": 249,
   "metadata": {
    "collapsed": false
   },
   "outputs": [
    {
     "name": "stdout",
     "output_type": "stream",
     "text": [
      "Help on function sampled_from in module hypothesis.strategies:\n",
      "\n",
      "sampled_from(elements)\n",
      "    Returns a strategy which generates any value present in the iterable\n",
      "    elements.\n",
      "    \n",
      "    Note that as with just, values will not be copied and thus you\n",
      "    should be careful of using mutable data\n",
      "\n"
     ]
    }
   ],
   "source": [
    "help(st.sampled_from)"
   ]
  }
 ],
 "metadata": {
  "kernelspec": {
   "display_name": "Python 3",
   "language": "python",
   "name": "python3"
  },
  "language_info": {
   "codemirror_mode": {
    "name": "ipython",
    "version": 3
   },
   "file_extension": ".py",
   "mimetype": "text/x-python",
   "name": "python",
   "nbconvert_exporter": "python",
   "pygments_lexer": "ipython3",
   "version": "3.4.3"
  }
 },
 "nbformat": 4,
 "nbformat_minor": 0
}
